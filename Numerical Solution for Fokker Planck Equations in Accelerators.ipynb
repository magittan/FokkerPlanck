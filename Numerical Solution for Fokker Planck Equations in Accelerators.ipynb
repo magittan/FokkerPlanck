{
 "cells": [
  {
   "cell_type": "code",
   "execution_count": 1,
   "metadata": {},
   "outputs": [],
   "source": [
    "import matplotlib.pyplot as plt\n",
    "import numpy as np"
   ]
  },
  {
   "cell_type": "markdown",
   "metadata": {},
   "source": [
    "# Purpose"
   ]
  },
  {
   "cell_type": "markdown",
   "metadata": {},
   "source": [
    "This notebook is where the 2OI method is derived from the paper and implemented in methods."
   ]
  },
  {
   "cell_type": "markdown",
   "metadata": {},
   "source": [
    "# Derivation"
   ]
  },
  {
   "cell_type": "markdown",
   "metadata": {},
   "source": [
    "Restricting the investigation of stochastic dynamics in the two-dimensional phase space.\n",
    "\n",
    "$$ \\frac{d}{ds} x_1 = x_2$$\n",
    "$$ \\frac{d}{ds} x_2 = -a_1(x_1) - a_2(x_1,x_2) + a_3(x_1)\\eta_1 + a_4 \\eta_2$$"
   ]
  },
  {
   "cell_type": "markdown",
   "metadata": {},
   "source": [
    "- We have $\\eta_1,\\eta_2$ as white noise gaussian processes. \n",
    "- $a_1(x_1)$ can be an arbitrary nonlinear potential (field), $a_2(x_1,x_2)$ can include van der Pol-like damping terms, $a_3(x_1)\\eta_1$ describes random parameters and $a_4\\eta_2$ represents an additive noise term."
   ]
  },
  {
   "cell_type": "markdown",
   "metadata": {},
   "source": [
    "The corresponding (Ito) Fokker-Planck Equation for the probability density reads:\n",
    "\n",
    "   $$\\frac{\\partial}{\\partial s} p(x_1,x_2,s) = -\\frac{\\partial}{\\partial x_1}[x_2\\cdot p(x_1,x_2,s)] + \\frac{\\partial}{\\partial x_2}[(a_1(x_1) + a_2(x_1,x_2))\\cdot p(x_1,x_2,s)] + \\frac{1}{2}\\frac{\\partial^2}{\\partial x^2_2}[(a_3^2(x_1)+a_4^2)\\cdot p(x_1,x_2,s)]$$\n",
    "\n",
    "The previous equation could be written in the form of two fluxes, one in $x_1$ and one in $x_2$ such that:\n",
    "\n",
    "$$\\frac{\\partial p}{\\partial s} = \\frac{\\partial A}{\\partial x_1} + \\frac{\\partial B}{\\partial x_2}$$\n",
    "\n",
    "First we need to evaluate implicitly the $x_2$ derivative, and also the $x_1$ derivative implicitly.\n",
    "\n",
    "$$ \\frac{p_{i,j}^{n+\\frac{1}{2}}-p_{i,j}^{n}}{\\Delta s} = \\frac{F_{i,j+\\frac{1}{2}}^{n+\\frac{1}{2}}-F_{i,j-\\frac{1}{2}}^{n+\\frac{1}{2}}}{\\Delta x_2}$$"
   ]
  },
  {
   "cell_type": "markdown",
   "metadata": {},
   "source": [
    "Which can also be written as:\n",
    "\n",
    "$$ \\frac{p_{i,j}^{n+\\frac{1}{2}}}{\\Delta s} = \\frac{p_{i,j}^{n}}{\\Delta s} + \\frac{F_{i,j+\\frac{1}{2}}^{n+\\frac{1}{2}}-F_{i,j-\\frac{1}{2}}^{n+\\frac{1}{2}}}{\\Delta x_2}$$"
   ]
  },
  {
   "cell_type": "markdown",
   "metadata": {},
   "source": [
    "This means we have a tri-diagonal expression for the first half step up into p. We define F as the following:\n",
    "\n",
    "$$F_{i,j + \\frac{1}{2}} = D \\frac{p_{i,j+1} - p_{i,j}}{\\Delta x_2} + [a_1(x_1) + a_2(x_1,x_2 + \\Delta x_2)]\\frac{p_{i,j+1} - p_{i,j}}{2}$$"
   ]
  },
  {
   "cell_type": "markdown",
   "metadata": {},
   "source": [
    "Where we have $D = \\frac{[a_3^2(x_1) + a_4^2]}{2}$."
   ]
  },
  {
   "cell_type": "markdown",
   "metadata": {},
   "source": [
    "For the second half step we need to do the following:\n",
    "\n",
    "$$ \\frac{p_{i,j}^{n+1}-p_{i,j}^{n+\\frac{1}{2}}}{\\Delta s} = -x_2 \\frac{p_{i+1,j}^{n+1}-p_{i-1,j}^{n+1}}{2\\Delta x_1}$$"
   ]
  },
  {
   "cell_type": "markdown",
   "metadata": {},
   "source": [
    "Let's try building something like this now:\n",
    "\n",
    "Rephrasing the first implicit derivative:\n",
    "\n",
    "$$ \\frac{p_{i,j}^{n+\\frac{1}{2}}}{\\Delta s} = \\frac{p_{i,j}^{n}}{\\Delta s} + \\frac{F_{i,j+\\frac{1}{2}}^{n+\\frac{1}{2}}-F_{i,j-\\frac{1}{2}}^{n+\\frac{1}{2}}}{\\Delta x_2}$$"
   ]
  },
  {
   "cell_type": "markdown",
   "metadata": {},
   "source": [
    "$$ \\frac{p_{i,j}^{n+\\frac{1}{2}}}{\\Delta s} = \\frac{p_{i,j}^{n}}{\\Delta s} + \\frac{F_{i,j+\\frac{1}{2}}^{n+\\frac{1}{2}}-F_{i,j-\\frac{1}{2}}^{n+\\frac{1}{2}}}{\\Delta x_2}$$\n",
    "\n",
    "Which can also be written as:\n",
    "\n",
    "$$F_{i,j + \\frac{1}{2}} = D \\frac{p_{i,j+1} - p_{i,j}}{\\Delta x_2} + [a_1(x_1) + a_2(x_1,x_2 + \\Delta x_2)]\\frac{p_{i,j+1} + p_{i,j}}{2}$$\n",
    "\n",
    "At this point we also realize that C and E will be dependent on $x_1$ and $x_2$ therefore we have $D_{i,j},C_{i,j},E_{i,j}$. This will mean that our variables at (i,j) will correspond to evaluating $F_{i,j+\\frac{1}{2}}$.\n",
    "\n",
    "$$C_{i,j} = \\frac{[a_1(x_1) + a_2(x_1,x_2 + \\Delta x_2)]}{2}$$\n",
    "\n",
    "$$E_{i,j} = \\frac{D_{i,j}}{\\Delta x_2}$$\n",
    "\n",
    "$$F_{i,j + \\frac{1}{2}} = E_{i,j}\\cdot(p_{i,j+1} - p_{i,j})+ C_{i,j}\\cdot(p_{i,j+1} + p_{i,j})$$\n",
    "\n",
    "$$F_{i,j + \\frac{1}{2}} = (C_{i,j}+E_{i,j})\\cdot(p_{i,j+1} ) - (E_{i,j}-C_{i,j})\\cdot(p_{i,j} )$$\n",
    "\n",
    "$$F_{i,j - \\frac{1}{2}} = (C_{i,j-1}+E_{i,j-1})\\cdot(p_{i,j} ) - (E_{i,j-1}-C_{i,j-1})\\cdot(p_{i,j-1} )$$\n",
    "\n",
    "\n",
    "Therefore if we have $F_{i,j + \\frac{1}{2}}-F_{i,j - \\frac{1}{2}}$, we will get:\n",
    "\n",
    "$$F_{i,j + \\frac{1}{2}}-F_{i,j - \\frac{1}{2}} = (C_{i,j}+E_{i,j})\\cdot p_{i,j+1}  - [(E_{i,j}-C_{i,j})\\cdot p_{i,j}+(C_{i,j-1}+E_{i,j-1})\\cdot p_{i,j}] +(E_{i,j-1}-C_{i,j-1})\\cdot p_{i,j-1} $$\n",
    "\n",
    "Therefore combining the two for the implicit derivative in the $x_2$ we get:\n",
    "\n",
    "$$ \\frac{p_{i,j}^{n+\\frac{1}{2}}-p_{i,j}^{n}}{\\Delta s} = \\frac{F_{i,j+\\frac{1}{2}}^{n+\\frac{1}{2}}-F_{i,j-\\frac{1}{2}}^{n+\\frac{1}{2}}}{\\Delta x_2}$$\n",
    "\n",
    "$$ \\frac{p_{i,j}^{n+\\frac{1}{2}}}{\\Delta s} = \\frac{p_{i,j}^{n}}{\\Delta s} + \\frac{F_{i,j+\\frac{1}{2}}^{n+\\frac{1}{2}}-F_{i,j-\\frac{1}{2}}^{n+\\frac{1}{2}}}{\\Delta x_2}$$\n",
    "\n",
    "$$ \\frac{p_{i,j}^{n+\\frac{1}{2}}}{\\Delta s} = \\frac{p_{i,j}^{n}}{\\Delta s}+\\frac{(C_{i,j}+E_{i,j})\\cdot p_{i,j+1}^{n+\\frac{1}{2}}  - [(E_{i,j}-C_{i,j})\\cdot p_{i,j}^{n+\\frac{1}{2}}+(C_{i,j-1}+E_{i,j-1})\\cdot p_{i,j}^{n+\\frac{1}{2}}] +(E_{i,j-1}-C_{i,j-1})\\cdot p_{i,j-1}^{n+\\frac{1}{2}}}{\\Delta x_2}$$\n",
    "\n",
    "$$ p_{i,j}^{n+\\frac{1}{2}} = p_{i,j}^{n} + \\Delta s(\\frac{(C_{i,j}+E_{i,j})\\cdot p_{i,j+1}^{n+\\frac{1}{2}}  - [(E_{i,j}-C_{i,j})+(C_{i,j-1}+E_{i,j-1})]\\cdot p_{i,j}^{n+\\frac{1}{2}} +(E_{i,j-1}-C_{i,j-1})\\cdot p_{i,j-1}^{n+\\frac{1}{2}}}{\\Delta x_2})$$\n",
    "\n",
    "Therefore in Tri-diagonal Form we get:\n",
    "\n",
    "$$ -p_{i,j}^{n} = -p_{i,j}^{n+\\frac{1}{2}} + \\frac{\\Delta s \\cdot (C_{i,j}+E_{i,j})\\cdot p_{i,j+1}^{n+\\frac{1}{2}}}{\\Delta x_2} + \\frac{ - \\Delta s \\cdot [(E_{i,j}-C_{i,j})+(C_{i,j-1}+E_{i,j-1})]\\cdot p_{i,j}^{n+\\frac{1}{2}}}{\\Delta x_2} +\\frac{\\Delta s \\cdot (E_{i,j-1}-C_{i,j-1})\\cdot p_{i,j-1}^{n+\\frac{1}{2}}}{\\Delta x_2}$$\n",
    "\n",
    "This is under the assumption that $E_{i,j}=E_{i,j-1}$. We will also set $C_{i,j}=C_{i,j-1}$ This will prevent the method from \"losing\" probability and suffer constantly increasing/decreasing values."
   ]
  },
  {
   "cell_type": "markdown",
   "metadata": {},
   "source": [
    "# First Operator"
   ]
  },
  {
   "cell_type": "code",
   "execution_count": 2,
   "metadata": {},
   "outputs": [],
   "source": [
    "dim = 81\n",
    "\n",
    "nx = np.linspace(-4,4,dim)\n",
    "ny = np.linspace(-4,4,dim)\n",
    "\n",
    "# nx = np.linspace(-4-np.diff(nx)[0],4+np.diff(nx)[0],dim+2)\n",
    "# ny = np.linspace(-4-np.diff(ny)[0],4+np.diff(ny)[0],dim+2)\n",
    "\n",
    "X, Y = np.meshgrid(nx,ny)\n",
    "\n",
    "# Defining constants and functions used in creating the operators\n",
    "K=1\n",
    "gamma = 2.1\n",
    "sigma = 0.8\n",
    "delta_s = np.pi/1000\n",
    "\n",
    "a_1 = lambda x,y: K*x\n",
    "a_2 = lambda x,y: gamma*y\n",
    "a_3 = lambda x,y: 0\n",
    "a_4 = lambda x,y: sigma\n",
    "\n",
    "delta_x = np.diff(X,axis=1).max()\n",
    "delta_y = np.diff(Y,axis=0).max()\n",
    "\n",
    "C = (a_1(X,Y)+a_2(X,Y))/2\n",
    "D = 0.8\n",
    "E = (D/delta_y)*np.ones(C.shape)\n",
    "H = delta_s*Y/(2*delta_x)"
   ]
  },
  {
   "cell_type": "markdown",
   "metadata": {},
   "source": [
    "Now in order to evaluate this we are going to need to create a tri-diagonal matrix system since our solver is implicit"
   ]
  },
  {
   "cell_type": "code",
   "execution_count": 3,
   "metadata": {},
   "outputs": [],
   "source": [
    "temp = C[:,3].copy()\n",
    "E_temp= E[:,3].copy()\n",
    "\n",
    "top_diag = temp[:-1]\n",
    "bot_diag = temp[:-1]\n",
    "\n",
    "E_top_diag = E_temp[1:]\n",
    "E_bot_diag = E_temp[:-1]\n",
    "\n",
    "#Building the matrix for the derivative of x_2\n",
    "mid_diag = np.pad(bot_diag[:-1]-top_diag[1:],((1,1)),'constant')+np.pad(E_bot_diag[:-1]+E_top_diag[1:],((1,1)),'constant')\n",
    "A = np.diag(top_diag,1)-np.diag(bot_diag,-1)-np.diag(mid_diag,0)+np.diag(E_top_diag,1)+np.diag(E_bot_diag,-1)\n",
    "A*=(delta_s/delta_y)\n",
    "A+= -np.eye(dim)\n",
    "A[0,1]=0\n",
    "A[-1,-2]=0"
   ]
  },
  {
   "cell_type": "code",
   "execution_count": 4,
   "metadata": {},
   "outputs": [
    {
     "data": {
      "text/plain": [
       "<matplotlib.colorbar.Colorbar at 0x11e4264d0>"
      ]
     },
     "execution_count": 4,
     "metadata": {},
     "output_type": "execute_result"
    },
    {
     "data": {
      "image/png": "[encoded data removed]",
      "text/plain": [
       "<Figure size 432x288 with 2 Axes>"
      ]
     },
     "metadata": {
      "needs_background": "light"
     },
     "output_type": "display_data"
    }
   ],
   "source": [
    "plt.imshow(A);plt.colorbar()"
   ]
  },
  {
   "cell_type": "markdown",
   "metadata": {},
   "source": [
    "# Second Operator"
   ]
  },
  {
   "cell_type": "markdown",
   "metadata": {},
   "source": [
    "In order to evaluate on the next expression we have:\n",
    "\n",
    "$$\\frac{p_{i,j}^{n+1}-p_{i,j}^{n+\\frac{1}{2}}}{\\Delta s} =-x_2\\cdot\\frac{p_{i+1,j}^{n+1}-p_{i-1,j}^{n+1}}{2\\Delta x_1}$$\n",
    "\n",
    "Therefore during this into a tridiagonal system we get:\n",
    "\n",
    "$$p_{i,j}^{n+1}-p_{i,j}^{n+\\frac{1}{2}} = -\\Delta s \\cdot x_2\\cdot\\frac{p_{i+1,j}^{n+1}-p_{i-1,j}^{n+1}}{2\\Delta x_1}$$\n",
    "\n",
    "$$-p_{i,j}^{n+\\frac{1}{2}} = -p_{i,j}^{n+1} -\\Delta s \\cdot x_2\\cdot\\frac{p_{i+1,j}^{n+1}-p_{i-1,j}^{n+1}}{2\\Delta x_1}$$\n",
    "\n",
    "If we express $H_{i,j} = \\frac{\\Delta s \\cdot x_2}{2\\Delta x_1}$ we then have the following expression:\n",
    "\n",
    "$$p_{i,j}^{n+\\frac{1}{2}} = p_{i,j}^{n+1} + H_{i+1,j}\\cdot p_{i+1,j}^{n+1}- H_{i-1,j}\\cdot p_{i-1,j}^{n+1}$$"
   ]
  },
  {
   "cell_type": "code",
   "execution_count": 5,
   "metadata": {},
   "outputs": [],
   "source": [
    "dim = 81\n",
    "\n",
    "nx = np.linspace(0,8,dim)\n",
    "ny = np.linspace(0,8,dim)\n",
    "\n",
    "# nx = np.linspace(0-np.diff(nx)[0],8+np.diff(nx)[0],dim+2)\n",
    "# ny = np.linspace(0-np.diff(ny)[0],8+np.diff(ny)[0],dim+2)\n",
    "\n",
    "X, Y = np.meshgrid(nx,ny)\n",
    "\n",
    "#Functions\n",
    "delta_s = np.pi/1000\n",
    "\n",
    "\n",
    "delta_x = np.diff(X,axis=1).max()\n",
    "delta_y = np.diff(Y,axis=0).max()\n",
    "\n",
    "H = delta_s*Y/(2*delta_x)"
   ]
  },
  {
   "cell_type": "code",
   "execution_count": 6,
   "metadata": {},
   "outputs": [],
   "source": [
    "temp = H[3].copy()\n",
    "top_diag = temp[1:]\n",
    "bot_diag = temp[:-1]\n",
    "\n",
    "#Building the matrix for the derivative of x_1\n",
    "B = np.eye(dim)+np.diag(top_diag,1)-np.diag(bot_diag,-1)\n",
    "B[0,1]=0\n",
    "B[-1,-2]=0"
   ]
  },
  {
   "cell_type": "code",
   "execution_count": 7,
   "metadata": {},
   "outputs": [
    {
     "data": {
      "text/plain": [
       "<matplotlib.colorbar.Colorbar at 0x11e57dd50>"
      ]
     },
     "execution_count": 7,
     "metadata": {},
     "output_type": "execute_result"
    },
    {
     "data": {
      "image/png": "[encoded data removed]",
      "text/plain": [
       "<Figure size 432x288 with 2 Axes>"
      ]
     },
     "metadata": {
      "needs_background": "light"
     },
     "output_type": "display_data"
    }
   ],
   "source": [
    "plt.imshow(B);plt.colorbar()"
   ]
  },
  {
   "cell_type": "markdown",
   "metadata": {},
   "source": [
    "# Stability Analysis"
   ]
  },
  {
   "cell_type": "markdown",
   "metadata": {},
   "source": [
    "For the stability analysis we can look at each step individually.\n",
    "\n",
    "For the first step we have the following:\n",
    "\n",
    "$$ \\frac{p_{i,j}^{n+\\frac{1}{2}}}{\\Delta s} = \\frac{p_{i,j}^{n}}{\\Delta s} + \\frac{F_{i,j+\\frac{1}{2}}^{n+\\frac{1}{2}}-F_{i,j-\\frac{1}{2}}^{n+\\frac{1}{2}}}{\\Delta x_2}$$\n",
    "\n",
    "$$F_{i,j + \\frac{1}{2}} = D \\frac{p_{i,j+1} - p_{i,j}}{\\Delta x_2} + [a_1(x_1) + a_2(x_1,x_2 + \\Delta x_2)]\\frac{p_{i,j+1} + p_{i,j}}{2}$$\n",
    "\n",
    "\n",
    "We will consider $p_{i,j}^n=g(\\xi)^n e^{i\\xi j\\Delta x}$ and we will approximate $a \\approx [a_1(x_1) + a_2(x_1,x_2 + \\Delta x_2)] \\approx [a_1(x_1) + a_2(x_1,x_2 - \\Delta x_2)]$\n",
    "\n",
    "$$F_{i,j + \\frac{1}{2}} = D \\frac{p_{i,j+1} - p_{i,j}}{\\Delta x_2} + a\\frac{p_{i,j+1} + p_{i,j}}{2}$$\n",
    "\n",
    "$$ \\frac{p_{i,j}^{n+\\frac{1}{2}}}{\\Delta s} = \\frac{p_{i,j}^{n}}{\\Delta s} + \\frac{D \\frac{p_{i,j+1}^{n + \\frac{1}{2}} - p_{i,j}^{n + \\frac{1}{2}}}{\\Delta x_2} + a\\frac{p_{i,j+1}^{n + \\frac{1}{2}} + p_{i,j}^{n + \\frac{1}{2}}}{2}-[D \\frac{p_{i,j}^{n + \\frac{1}{2}} - p_{i,j-1}^{n + \\frac{1}{2}}}{\\Delta x_2} + a\\frac{p_{i,j}^{n + \\frac{1}{2}} + p_{i,j-1}^{n + \\frac{1}{2}}}{2}]}{\\Delta x_2}$$\n",
    "\n",
    "$$ \\frac{g(\\xi)^{n+\\frac{1}{2}} e^{i\\xi j\\Delta x}}{\\Delta s} = \\frac{g(\\xi)^{n} e^{i\\xi j\\Delta x}}{\\Delta s} + \\frac{D \\frac{g(\\xi)^{n+\\frac{1}{2}} e^{(i)\\xi (j+1)\\Delta x} - g(\\xi)^{n+\\frac{1}{2}} e^{i\\xi j\\Delta x}}{\\Delta x_2} + a\\frac{g(\\xi)^{n+\\frac{1}{2}} e^{(i)\\xi (j+1)\\Delta x} + g(\\xi)^{n+\\frac{1}{2}} e^{i\\xi j\\Delta x}}{2}-[D \\frac{g(\\xi)^{n+\\frac{1}{2}} e^{i\\xi j\\Delta x} - g(\\xi)^{n+\\frac{1}{2}} e^{(i)\\xi (j-1)\\Delta x}}{\\Delta x_2} + a\\frac{g(\\xi)^{n+\\frac{1}{2}} e^{i\\xi j\\Delta x} + g(\\xi)^{n+\\frac{1}{2}} e^{(i)\\xi (j-1)\\Delta x}}{2}]}{\\Delta x_2}$$\n",
    "\n",
    "$$ \\frac{1}{\\Delta s} = \\frac{g(\\xi)^{-\\frac{1}{2}}}{\\Delta s} + \\frac{D \\frac{ e^{\\xi i\\Delta x} - 1}{\\Delta x_2} + a\\frac{ e^{\\xi i\\Delta x} + 1}{2}-[D \\frac{1 - e^{-\\xi i\\Delta x}}{\\Delta x_2} + a\\frac{1 + e^{-\\xi i\\Delta x}}{2}]}{\\Delta x_2}$$\n",
    "\n",
    "$$ \\frac{1}{\\Delta s} = \\frac{g(\\xi)^{-\\frac{1}{2}}}{\\Delta s} + \\frac{D [\\frac{ e^{\\xi i\\Delta x} - 1}{\\Delta x_2} -\\frac{1 - e^{-\\xi i\\Delta x}}{\\Delta x_2}]+ a[\\frac{ e^{\\xi i\\Delta x} + 1}{2} - \\frac{1 + e^{-\\xi i\\Delta x}}{2}]}{\\Delta x_2}$$\n",
    "\n",
    "$$ \\frac{1}{\\Delta s} = \\frac{g(\\xi)^{-\\frac{1}{2}}}{\\Delta s} + \\frac{D [\\frac{ e^{\\xi i\\Delta x} - 2 + e^{-\\xi i\\Delta x}}{\\Delta x_2}]+ a[\\frac{ e^{\\xi i\\Delta x}-e^{-\\xi i\\Delta x}}{2}]}{\\Delta x_2}$$\n",
    "\n",
    "$$ \\frac{1}{\\Delta s} = \\frac{g(\\xi)^{-\\frac{1}{2}}}{\\Delta s} + \\frac{D [\\frac{ - 2 + 2 \\cos(\\xi \\Delta x)}{\\Delta x_2}]+ a[\\frac{i\\sin(\\xi \\Delta x)}{1}]}{\\Delta x_2}$$\n",
    "\n",
    "$$ \\frac{1}{\\Delta s} = \\frac{g(\\xi)^{-\\frac{1}{2}}}{\\Delta s} + \\frac{D [\\frac{- 2 + 2- 4 \\sin^2(\\frac{\\xi \\Delta x}{2})}{\\Delta x_2}]+ a[i\\sin(\\xi \\Delta x)]}{\\Delta x_2}$$\n",
    "\n",
    "$$ \\frac{1}{\\Delta s} = \\frac{g(\\xi)^{-\\frac{1}{2}}}{\\Delta s} + \\frac{- 4D}{\\Delta x_2^2} \\sin^2(\\frac{\\xi \\Delta x}{2})+ \\frac{1}{{\\Delta x_2}}a[i\\sin(\\xi \\Delta x)]$$\n",
    "\n",
    "$$ 1 = g(\\xi)^{-\\frac{1}{2}} + \\frac{- 4D \\Delta s}{\\Delta x_2^2} \\sin^2(\\frac{\\xi \\Delta x}{2})+ \\frac{\\Delta s}{{\\Delta x_2}}a[i\\sin(\\xi \\Delta x)]$$\n",
    "\n",
    "$$ 1+\\frac{ 4D \\Delta s}{\\Delta x_2^2} \\sin^2(\\frac{\\xi \\Delta x}{2})- \\frac{\\Delta s}{{\\Delta x_2}}a[i\\sin(\\xi \\Delta x)] = g(\\xi)^{-\\frac{1}{2}}$$\n",
    "\n",
    "Therefore if we consider a half step as a whole step we have:\n",
    "\n",
    "$$g(\\xi) = \\frac{1}{1+\\frac{ 4D \\Delta s}{\\Delta x_2^2} \\sin^2(\\frac{\\xi \\Delta x}{2})- \\frac{\\Delta s}{{\\Delta x_2}}a[i\\sin(\\xi \\Delta x)]}$$\n",
    "\n",
    "For the second step we have:\n",
    "\n",
    "Now we will consider $p_{i,j}^n=g(\\xi)^n e^{i\\xi j\\Delta x}$\n",
    "\n",
    "$$\\frac{p_{i,j}^{n+1}-p_{i,j}^{n+\\frac{1}{2}}}{\\Delta s} =-x_2\\cdot\\frac{p_{i+1,j}^{n+1}-p_{i-1,j}^{n+1}}{2\\Delta x_1}$$\n",
    "\n",
    "\n",
    "$$\\frac{g(\\xi)^{n+1} e^{i\\xi j\\Delta x}-g(\\xi)^{n+\\frac{1}{2}} e^{i\\xi j\\Delta x}}{\\Delta s} =-x_2\\cdot\\frac{g(\\xi)^{n+1} e^{(i)\\xi (j+1)\\Delta x}-g(\\xi)^{n+1} e^{(i)\\xi (j-1)\\Delta x}}{2\\Delta x}$$\n",
    "\n",
    "$$ \\frac{1-g(\\xi)^{-\\frac{1}{2}}}{\\Delta s} =-x_2\\cdot\\frac{e^{\\xi i\\Delta x} -e^{-\\xi i\\Delta x}}{2\\Delta x}$$\n",
    "\n",
    "Using $e^{\\xi j\\Delta x} = \\cos(\\xi j\\Delta x) + i\\sin(\\xi j\\Delta x)$ we get:\n",
    "\n",
    "$$ \\frac{1-g(\\xi)^{-\\frac{1}{2}}}{\\Delta s} =-x_2\\cdot\\frac{\\cos(\\xi \\Delta x) + i\\sin(\\xi \\Delta x) - (\\cos(\\xi \\Delta x) - i\\sin(\\xi \\Delta x))}{2\\Delta x}$$\n",
    "\n",
    "$$ \\frac{1-g(\\xi)^{-\\frac{1}{2}}}{\\Delta s} =-x_2\\cdot\\frac{2i\\sin(\\xi \\Delta x)}{2\\Delta x}$$\n",
    "\n",
    "$$ 1-g(\\xi)^{-\\frac{1}{2}} =-x_2\\cdot\\frac{\\Delta s}{\\Delta x}i\\sin(\\xi \\Delta x)$$\n",
    "\n",
    "$$ g(\\xi)^{-\\frac{1}{2}} = 1+ x_2\\cdot\\frac{\\Delta s}{\\Delta x}i\\sin(\\xi \\Delta x)$$\n",
    "\n",
    "If we consider the fraction half step as a full half step we will have:\n",
    "\n",
    "$$ g(\\xi)= \\frac{1}{1+ x_2\\cdot\\frac{\\Delta s}{\\Delta x}i\\sin(\\xi \\Delta x)}$$"
   ]
  }
 ],
 "metadata": {
  "kernelspec": {
   "display_name": "Python 3",
   "language": "python",
   "name": "python3"
  },
  "language_info": {
   "codemirror_mode": {
    "name": "ipython",
    "version": 3
   },
   "file_extension": ".py",
   "mimetype": "text/x-python",
   "name": "python",
   "nbconvert_exporter": "python",
   "pygments_lexer": "ipython3",
   "version": "3.7.4"
  }
 },
 "nbformat": 4,
 "nbformat_minor": 2
}
