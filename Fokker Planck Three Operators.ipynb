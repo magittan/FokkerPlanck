{
 "cells": [
  {
   "cell_type": "code",
   "execution_count": 1,
   "metadata": {},
   "outputs": [],
   "source": [
    "import matplotlib.pyplot as plt\n",
    "import numpy as np\n",
    "import numpy\n",
    "from scipy import signal\n",
    "import scipy.sparse as sparse\n",
    "import scipy.sparse.linalg as linalg\n",
    "%matplotlib inline"
   ]
  },
  {
   "cell_type": "markdown",
   "metadata": {},
   "source": [
    "# Purpose"
   ]
  },
  {
   "cell_type": "markdown",
   "metadata": {},
   "source": [
    "This notebook was established for building the methods for the three operator approach and testing if these methods agreed with each other. The functions were written for each step of the method ($L_1$, $L_2$, and $L_3$) since we need to pick an implementation of all three steps in order to time evolve our intial state. These functions then can be combined, since they all have the same output, in a single method for simulation."
   ]
  },
  {
   "cell_type": "markdown",
   "metadata": {},
   "source": [
    "# Initializing Problem"
   ]
  },
  {
   "cell_type": "code",
   "execution_count": 2,
   "metadata": {},
   "outputs": [],
   "source": [
    "dim = 81\n",
    "\n",
    "nx = np.linspace(-4,4,dim)\n",
    "ny = np.linspace(-4,4,dim)\n",
    "\n",
    "# nx = np.linspace(-4-np.diff(nx)[0],4+np.diff(nx)[0],dim+2)\n",
    "# ny = np.linspace(-4-np.diff(ny)[0],4+np.diff(ny)[0],dim+2)\n",
    "\n",
    "X, Y = np.meshgrid(nx,ny)\n",
    "\n",
    "#Functions\n",
    "K=1\n",
    "gamma = 2.1\n",
    "sigma = 0.8\n",
    "delta_s = np.pi/1000\n",
    "\n",
    "a_1 = lambda x,y: K*x\n",
    "a_2 = lambda x,y: gamma*y\n",
    "a_3 = lambda x,y: 0\n",
    "a_4 = lambda x,y: sigma\n",
    "\n",
    "delta_x = np.diff(X,axis=1).max()\n",
    "delta_y = np.diff(Y,axis=0).max()\n",
    "\n",
    "g = lambda x,y: a_1(x,y)+a_2(x,y)"
   ]
  },
  {
   "cell_type": "markdown",
   "metadata": {},
   "source": [
    "We are going to try this again, but here we are going to split the operator into three parts similar to the work in _:"
   ]
  },
  {
   "cell_type": "code",
   "execution_count": 3,
   "metadata": {},
   "outputs": [],
   "source": [
    "#################################################################################################################\n",
    "\n",
    "def explicit_L3(U,delta_x, delta_t,kappa=.8):\n",
    "    \"\"\"\n",
    "    Will represent an second derivative operator (L3) that will take the solution forward one time step with\n",
    "    a diffusion constant D, delta_x, and delta_t implemented with an explicit scheme with boundary conditions\n",
    "    set to zero.\n",
    "    \n",
    "    :Input:\n",
    "     - *U* (numpy.ndarray) Input array\n",
    "     - *delta_x* (float) Distance between points in discretization\n",
    "     - *delta_t* (float) Length of a Time Step\n",
    "     - *kappa* (float) Diffusion Constant\n",
    "     \n",
    "    :Output:\n",
    "     - (numpy.ndarray) Solution at one time step forward.\n",
    "    \"\"\"\n",
    "    x2_dim= U.shape[0]\n",
    "    r = (kappa* delta_t / (2*delta_x**2))\n",
    "    d = numpy.ones(x2_dim)\n",
    "    \n",
    "    A = numpy.diag((1-2*r)*d) + numpy.diag(r*d[1:],1)+ numpy.diag(r*d[1:],-1)\n",
    "    \n",
    "    for i in range(x2_dim):\n",
    "        U[:,i] = numpy.dot(A,U[:,i])\n",
    "\n",
    "    return U\n",
    "\n",
    "def solve_CN(U,delta_x, delta_t,kappa=.8):\n",
    "    \"\"\"Will represent an second derivative operator (L3) that will take the solution forward one time step with\n",
    "    a diffusion constant D, delta_x, and delta_t implemented with a Crank-Nicholson Scheme with boundary conditions\n",
    "    set to zero.\n",
    "    \n",
    "    :Input:\n",
    "     - *U* (numpy.ndarray) Input array\n",
    "     - *delta_x* (float) Distance between points in discretization\n",
    "     - *delta_t* (float) Length of a Time Step\n",
    "     - *kappa* (float) Diffusion Constant\n",
    "     \n",
    "    :Output:\n",
    "     - (numpy.ndarray) Solution at one time step forward.\n",
    "    \"\"\"\n",
    "    x2_dim= U.shape[0]\n",
    "    r = (kappa* delta_t / (2*(delta_x**2)))\n",
    "    d = numpy.ones(x2_dim)\n",
    "    \n",
    "    A = numpy.diag((1+2*r)*d) + numpy.diag(-r*d[1:],1)+ numpy.diag(-r*d[1:],-1)\n",
    "    B = numpy.diag((1-2*r)*d) + numpy.diag(r*d[1:],1)+ numpy.diag(r*d[1:],-1)\n",
    "    \n",
    "    for i in range(x2_dim):\n",
    "        f = numpy.dot(B,U[:,i])\n",
    "        U[:,i] = numpy.linalg.solve(A,f)\n",
    "\n",
    "    return U\n",
    "\n",
    "def solve_BE(U,delta_x, delta_t,kappa=.8):\n",
    "    \"\"\"Will represent an second derivative operator (L3) that will take the solution forward one time step with\n",
    "    a diffusion constant D, delta_x, and delta_t implemented with a Backwards-Euler Scheme with boundary conditions\n",
    "    set to zero.\n",
    "    \n",
    "    :Input:\n",
    "     - *U* (numpy.ndarray) Input array\n",
    "     - *delta_x* (float) Distance between points in discretization\n",
    "     - *delta_t* (float) Length of a Time Step\n",
    "     - *kappa* (float) Diffusion Constant\n",
    "     \n",
    "    :Output:\n",
    "     - (numpy.ndarray) Solution at one time step forward.\n",
    "    \n",
    "    \"\"\"\n",
    "    \n",
    "    x2_dim= U.shape[0] \n",
    "    \n",
    "    r = (kappa* delta_t / (delta_x**2))\n",
    "    d = numpy.ones(x2_dim)\n",
    "    A = numpy.diag((1+2*r)*d) + numpy.diag(-r*d[1:],1)+ numpy.diag(-r*d[1:],-1)\n",
    "    \n",
    "    for i in range(x2_dim):\n",
    "        U[:,i] = numpy.linalg.solve(A,U[:,i])\n",
    "#         U[i+1,0] = U[i,0] + kappa*delta_t/delta_x**2 * (g_0 - 2.0*U[i,0]+U[i,1])\n",
    "#         U[i+1,-1] = U[i,-1] + kappa*delta_t/delta_x**2 * (U[i,-2] - 2.0*U[i,-1]+g_1)\n",
    "        \n",
    "    return U\n",
    "\n",
    "def solve_BE_mod(U,delta_x,delta_t,kappa=.8):\n",
    "    \"\"\"Will represent an second derivative operator (L3) that will take the solution forward one time step with\n",
    "    a diffusion constant D, delta_x, and delta_t implemented with a Backwards-Euler Scheme with boundary conditions\n",
    "    set to zero. This one also uses a Scipy based implementation.\n",
    "    \n",
    "    :Input:\n",
    "     - *U* (numpy.ndarray) Input array\n",
    "     - *delta_x* (float) Distance between points in discretization\n",
    "     - *delta_t* (float) Length of a Time Step\n",
    "     - *kappa* (float) Diffusion Constant\n",
    "     \n",
    "    :Output:\n",
    "     - (numpy.ndarray) Solution at one time step forward.\n",
    "    \n",
    "    \"\"\"\n",
    "    x2_dim= U.shape[0] \n",
    "    \n",
    "    r = (kappa* delta_t / (delta_x**2))\n",
    "    e = numpy.ones(x2_dim)*r\n",
    "    D2 = sparse.spdiags([e,-2.0*e,e],[-1,0,1],x2_dim,x2_dim).tocsr()\n",
    "    I = sparse.eye(x2_dim).tocsr()\n",
    "    A1 = (I-D2)\n",
    "    \n",
    "    for i in range(x2_dim):\n",
    "        U[:,i] = linalg.spsolve(A1,U[:,i])\n",
    "#         U[i+1,0] = U[i,0] + kappa*delta_t/delta_x**2 * (g_0 - 2.0*U[i,0]+U[i,1])\n",
    "#         U[i+1,-1] = U[i,-1] + kappa*delta_t/delta_x**2 * (U[i,-2] - 2.0*U[i,-1]+g_1)\n",
    "        \n",
    "    return U\n",
    "\n",
    "def solve_CN_mod(U,delta_x,delta_t,kappa=.8):\n",
    "    \"\"\"Will represent an second derivative operator (L3) that will take the solution forward one time step with\n",
    "    a diffusion constant D, delta_x, and delta_t implemented with a Crank-Nicholson Scheme with boundary conditions\n",
    "    set to zero. This one also uses a scipy based implementation.\n",
    "    \n",
    "    :Input:\n",
    "     - *U* (numpy.ndarray) Input array\n",
    "     - *delta_x* (float) Distance between points in discretization\n",
    "     - *delta_t* (float) Length of a Time Step\n",
    "     - *kappa* (float) Diffusion Constant\n",
    "     \n",
    "    :Output:\n",
    "     - (numpy.ndarray) Solution at one time step forward.\n",
    "    \"\"\"\n",
    "    x2_dim= U.shape[0] \n",
    "    \n",
    "    r = (0.5*kappa* delta_t / (delta_x**2))\n",
    "    e = numpy.ones(x2_dim)*r\n",
    "    D2 = sparse.spdiags([e,-2.0*e,e],[-1,0,1],x2_dim,x2_dim).tocsr()\n",
    "    I = sparse.eye(x2_dim).tocsr()\n",
    "    A1 = (I-D2)\n",
    "    A2 = (I+D2).tolil()\n",
    "    \n",
    "    for i in range(x2_dim):\n",
    "        f = A2.dot(U[:,i].copy())\n",
    "        U[:,i] = linalg.spsolve(A1,f)\n",
    "#         U[i+1,0] = U[i,0] + kappa*delta_t/delta_x**2 * (g_0 - 2.0*U[i,0]+U[i,1])\n",
    "#         U[i+1,-1] = U[i,-1] + kappa*delta_t/delta_x**2 * (U[i,-2] - 2.0*U[i,-1]+g_1)\n",
    "        \n",
    "    return U\n",
    "################################################################################################################"
   ]
  },
  {
   "cell_type": "code",
   "execution_count": 4,
   "metadata": {},
   "outputs": [],
   "source": [
    "def implicit_L1(U,delta_x,delta_t,Y=None):\n",
    "    \"\"\"Will represent a first derivative operator (L1) that will take the solution forward one time step with\n",
    "    a delta_x, and delta_t with an implicit implementation.\n",
    "\n",
    "    :Input:\n",
    "    - *U* (numpy.ndarray) Input array\n",
    "    - *delta_x* (float) Distance between points in discretization\n",
    "    - *delta_t* (float) Length of a Time Step\n",
    "    - *Y* (numpy.ndarray) Represents the underlying x2 variable which is involved in the process\n",
    "\n",
    "    :Output:\n",
    "    - (numpy.ndarray) Solution at one time step forward.\n",
    "    \"\"\"\n",
    "    x2_dim= U.shape[1] \n",
    "    for i in range(x2_dim):\n",
    "        temp=Y[i].copy()\n",
    "        diag = (delta_t*temp[:-1])/(2*delta_x)\n",
    "        B = np.eye(x2_dim)+np.diag(diag,1)-np.diag(diag,-1)\n",
    "\n",
    "        U[i]=np.linalg.solve(B,U[i])\n",
    "\n",
    "    return U\n",
    "\n",
    "def explicit_L1(U,delta_x,delta_t,Y=None):\n",
    "    \"\"\"Will represent a first derivative operator (L1) that will take the solution forward one time step with\n",
    "    a delta_x, and delta_t with an explicit implementation.\n",
    "    \n",
    "    :Input:\n",
    "     - *U* (numpy.ndarray) Input array\n",
    "     - *delta_x* (float) Distance between points in discretization\n",
    "     - *delta_t* (float) Length of a Time Step\n",
    "     - *Y* (numpy.ndarray) Represents the underlying x2 variable which is involved in the process\n",
    "     \n",
    "    :Output:\n",
    "     - (numpy.ndarray) Solution at one time step forward.\n",
    "    \"\"\"\n",
    "    \n",
    "    x2_dim= U.shape[1] \n",
    "    for i in range(x2_dim):\n",
    "        diag = (delta_t*Y[i].copy())/(2*delta_x)\n",
    "        temp = np.pad(U[i].copy(),(1,1),'constant')\n",
    "        U[i]-=diag*(temp[2:]-temp[:-2])\n",
    "        \n",
    "    return U\n",
    "\n",
    "def implicit_L2(U,delta_x,delta_t,X=None,Y=None,g=None):\n",
    "    \"\"\"Will represent a first derivative operator (L2) that will take the solution forward one time step with\n",
    "    a delta_x, and delta_t with an implicit implementation.\n",
    "    \n",
    "    :Input:\n",
    "     - *U* (numpy.ndarray) Input array\n",
    "     - *delta_x* (float) Distance between points in discretization\n",
    "     - *delta_t* (float) Length of a Time Step\n",
    "     - *X* (numpy.ndarray) Represents the underlying x1 variable which is involved in the process\n",
    "     - *Y* (numpy.ndarray) Represents the underlying x2 variable which is involved in the process\n",
    "     - *g* (function) Represents a function on x1 and x2 that is involved with the L2 term\n",
    "     \n",
    "    :Output:\n",
    "     - (numpy.ndarray) Solution at one time step forward.\n",
    "    \"\"\"\n",
    "    x1_dim= U.shape[0] \n",
    "    for i in range(x1_dim):\n",
    "        top_diag = ((delta_t*g(X[:,i],Y[:,i]))/(2*delta_x))[1:]\n",
    "        bot_diag = ((delta_t*g(X[:,i],Y[:,i]))/(2*delta_x))[:-1]\n",
    "        B = np.eye(x1_dim)-np.diag(top_diag,1)+np.diag(bot_diag,-1)\n",
    "        B[0,1]=0\n",
    "        B[-1,-2]=0\n",
    "        U[:,i]=np.linalg.solve(B,U[:,i])\n",
    "        \n",
    "    return U\n",
    "\n",
    "\n",
    "def explicit_L2(U,delta_x,delta_t,X=None,Y=None,g=None):\n",
    "    \"\"\"Will represent a first derivative operator (L2) that will take the solution forward one time step with\n",
    "    a delta_x, and delta_t with an explicit implementation.\n",
    "    \n",
    "    :Input:\n",
    "     - *U* (numpy.ndarray) Input array\n",
    "     - *delta_x* (float) Distance between points in discretization\n",
    "     - *delta_t* (float) Length of a Time Step\n",
    "     - *X* (numpy.ndarray) Represents the underlying x1 variable which is involved in the process\n",
    "     - *Y* (numpy.ndarray) Represents the underlying x2 variable which is involved in the process\n",
    "     - *g* (function) Represents a function on x1 and x2 that is involved with the L2 term\n",
    "     \n",
    "    :Output:\n",
    "     - (numpy.ndarray) Solution at one time step forward.\n",
    "    \"\"\"\n",
    "    x1_dim= U.shape[0] \n",
    "    for i in range(x1_dim):\n",
    "        temp = np.pad(U[:,i].copy(),(1,1),'constant')\n",
    "        diag = ((delta_t*g(X[:,i],Y[:,i]))/(2*delta_x))\n",
    "        U[:,i]+=diag*(temp[2:]-temp[:-2])\n",
    "        \n",
    "    return U"
   ]
  },
  {
   "cell_type": "markdown",
   "metadata": {},
   "source": [
    "# Testing L3"
   ]
  },
  {
   "cell_type": "markdown",
   "metadata": {},
   "source": [
    "Here we are testing the diffusion of a Gaussian with Backwards Euler"
   ]
  },
  {
   "cell_type": "code",
   "execution_count": 5,
   "metadata": {},
   "outputs": [],
   "source": [
    "check3BE = np.outer(signal.gaussian(81,4),signal.gaussian(81,4))\n",
    "checks3BE=[]\n",
    "for i in range(100):\n",
    "    check3BE=solve_BE_mod(check3BE,0.1,np.pi/1000,kappa=0.8)\n",
    "    checks3BE.append(check3BE.copy())"
   ]
  },
  {
   "cell_type": "code",
   "execution_count": 6,
   "metadata": {},
   "outputs": [
    {
     "data": {
      "text/plain": [
       "<matplotlib.colorbar.Colorbar at 0x1c22ba1550>"
      ]
     },
     "execution_count": 6,
     "metadata": {},
     "output_type": "execute_result"
    },
    {
     "data": {
      "image/png": "[encoded data removed]",
      "text/plain": [
       "<Figure size 432x288 with 2 Axes>"
      ]
     },
     "metadata": {
      "needs_background": "light"
     },
     "output_type": "display_data"
    }
   ],
   "source": [
    "plt.imshow(check3BE);plt.colorbar()"
   ]
  },
  {
   "cell_type": "markdown",
   "metadata": {},
   "source": [
    "Here we are testing the diffusion of a Gaussian with Crank-Nicholson"
   ]
  },
  {
   "cell_type": "code",
   "execution_count": 7,
   "metadata": {},
   "outputs": [],
   "source": [
    "check3CN = np.outer(signal.gaussian(81,4),signal.gaussian(81,4))\n",
    "checks3CN=[]\n",
    "for i in range(100):\n",
    "    check3CN=solve_CN_mod(check3CN,0.1,np.pi/1000,kappa=0.8)\n",
    "    checks3CN.append(check3CN.copy())"
   ]
  },
  {
   "cell_type": "code",
   "execution_count": 8,
   "metadata": {},
   "outputs": [
    {
     "data": {
      "text/plain": [
       "<matplotlib.colorbar.Colorbar at 0x110098d50>"
      ]
     },
     "execution_count": 8,
     "metadata": {},
     "output_type": "execute_result"
    },
    {
     "data": {
      "image/png": "[encoded data removed]",
      "text/plain": [
       "<Figure size 432x288 with 2 Axes>"
      ]
     },
     "metadata": {
      "needs_background": "light"
     },
     "output_type": "display_data"
    }
   ],
   "source": [
    "plt.imshow(check3CN);plt.colorbar()"
   ]
  },
  {
   "cell_type": "markdown",
   "metadata": {},
   "source": [
    "Here we are testing the diffusion of a Gaussian with an Explicit Approach"
   ]
  },
  {
   "cell_type": "code",
   "execution_count": 9,
   "metadata": {},
   "outputs": [],
   "source": [
    "check3E = np.outer(signal.gaussian(81,4),signal.gaussian(81,4))\n",
    "checks3E=[]\n",
    "for i in range(100):\n",
    "    check3E=explicit_L3(check3E,0.1,np.pi/1000,kappa=0.8)\n",
    "    checks3E.append(check3E.copy())"
   ]
  },
  {
   "cell_type": "code",
   "execution_count": 10,
   "metadata": {},
   "outputs": [
    {
     "data": {
      "text/plain": [
       "<matplotlib.colorbar.Colorbar at 0x1c235bfb90>"
      ]
     },
     "execution_count": 10,
     "metadata": {},
     "output_type": "execute_result"
    },
    {
     "data": {
      "image/png": "[encoded data removed]",
      "text/plain": [
       "<Figure size 432x288 with 2 Axes>"
      ]
     },
     "metadata": {
      "needs_background": "light"
     },
     "output_type": "display_data"
    }
   ],
   "source": [
    "plt.imshow(check3E);plt.colorbar()"
   ]
  },
  {
   "cell_type": "markdown",
   "metadata": {},
   "source": [
    "# Testing L2"
   ]
  },
  {
   "cell_type": "markdown",
   "metadata": {},
   "source": [
    "### Explicit Test"
   ]
  },
  {
   "cell_type": "code",
   "execution_count": 11,
   "metadata": {},
   "outputs": [],
   "source": [
    "check2 = np.outer(signal.gaussian(81,4),signal.gaussian(81,4))\n",
    "checks=[]\n",
    "for i in range(100):\n",
    "    check2=implicit_L2(check2,0.1,np.pi/500,X=X,Y=Y,g=g)\n",
    "#     check2=implicit_L2(check2,0.1,np.pi/500,X=X,Y=Y,g=g)\n",
    "    checks.append(check2.copy())"
   ]
  },
  {
   "cell_type": "code",
   "execution_count": 12,
   "metadata": {},
   "outputs": [
    {
     "data": {
      "text/plain": [
       "[<matplotlib.lines.Line2D at 0x1c2369a9d0>]"
      ]
     },
     "execution_count": 12,
     "metadata": {},
     "output_type": "execute_result"
    },
    {
     "data": {
      "image/png": "[encoded data removed]",
      "text/plain": [
       "<Figure size 432x288 with 1 Axes>"
      ]
     },
     "metadata": {
      "needs_background": "light"
     },
     "output_type": "display_data"
    }
   ],
   "source": [
    "# We ensure that the is no probability leakage or strange effects due to boundary conditions\n",
    "plt.plot([np.sum(c) for c in checks])"
   ]
  },
  {
   "cell_type": "code",
   "execution_count": 13,
   "metadata": {},
   "outputs": [
    {
     "data": {
      "text/plain": [
       "<matplotlib.colorbar.Colorbar at 0x1c23d3f750>"
      ]
     },
     "execution_count": 13,
     "metadata": {},
     "output_type": "execute_result"
    },
    {
     "data": {
      "image/png": "[encoded data removed]",
      "text/plain": [
       "<Figure size 432x288 with 2 Axes>"
      ]
     },
     "metadata": {
      "needs_background": "light"
     },
     "output_type": "display_data"
    }
   ],
   "source": [
    "plt.imshow(check2);plt.colorbar()"
   ]
  },
  {
   "cell_type": "markdown",
   "metadata": {},
   "source": [
    "### Implicit Test"
   ]
  },
  {
   "cell_type": "code",
   "execution_count": 14,
   "metadata": {},
   "outputs": [],
   "source": [
    "check22 = np.outer(signal.gaussian(81,4),signal.gaussian(81,4))\n",
    "checks = []\n",
    "for i in range(100):\n",
    "    check22=explicit_L2(check22,0.1,np.pi/500,X=X,Y=Y,g=g)\n",
    "    checks.append(check22.copy())"
   ]
  },
  {
   "cell_type": "code",
   "execution_count": 15,
   "metadata": {},
   "outputs": [
    {
     "data": {
      "text/plain": [
       "<matplotlib.colorbar.Colorbar at 0x1c2459bdd0>"
      ]
     },
     "execution_count": 15,
     "metadata": {},
     "output_type": "execute_result"
    },
    {
     "data": {
      "image/png": "[encoded data removed]",
      "text/plain": [
       "<Figure size 432x288 with 2 Axes>"
      ]
     },
     "metadata": {
      "needs_background": "light"
     },
     "output_type": "display_data"
    }
   ],
   "source": [
    "plt.imshow(check22);plt.colorbar()"
   ]
  },
  {
   "cell_type": "markdown",
   "metadata": {},
   "source": [
    "# Testing L1"
   ]
  },
  {
   "cell_type": "code",
   "execution_count": 16,
   "metadata": {},
   "outputs": [],
   "source": [
    "check = np.outer(signal.gaussian(81,4),signal.gaussian(81,4))\n",
    "checks=[]\n",
    "for i in range(100):\n",
    "    check=implicit_L1(check,0.1,np.pi/500,Y=Y)\n",
    "    checks.append(check.copy())"
   ]
  },
  {
   "cell_type": "code",
   "execution_count": 17,
   "metadata": {},
   "outputs": [
    {
     "data": {
      "text/plain": [
       "<matplotlib.colorbar.Colorbar at 0x1c2464f710>"
      ]
     },
     "execution_count": 17,
     "metadata": {},
     "output_type": "execute_result"
    },
    {
     "data": {
      "image/png": "[encoded data removed]",
      "text/plain": [
       "<Figure size 432x288 with 2 Axes>"
      ]
     },
     "metadata": {
      "needs_background": "light"
     },
     "output_type": "display_data"
    }
   ],
   "source": [
    "plt.imshow(check);plt.colorbar()"
   ]
  },
  {
   "cell_type": "code",
   "execution_count": 18,
   "metadata": {},
   "outputs": [],
   "source": [
    "check1 = np.outer(signal.gaussian(81,4),signal.gaussian(81,4))\n",
    "checks=[]\n",
    "for i in range(100):\n",
    "    check1=explicit_L1(check1,0.1,np.pi/500,Y=Y)\n",
    "    checks.append(check1)"
   ]
  },
  {
   "cell_type": "code",
   "execution_count": 19,
   "metadata": {},
   "outputs": [
    {
     "data": {
      "text/plain": [
       "<matplotlib.colorbar.Colorbar at 0x10f338b10>"
      ]
     },
     "execution_count": 19,
     "metadata": {},
     "output_type": "execute_result"
    },
    {
     "data": {
      "image/png": "[encoded data removed]",
      "text/plain": [
       "<Figure size 432x288 with 2 Axes>"
      ]
     },
     "metadata": {
      "needs_background": "light"
     },
     "output_type": "display_data"
    }
   ],
   "source": [
    "plt.imshow(check1);plt.colorbar()"
   ]
  },
  {
   "cell_type": "code",
   "execution_count": 20,
   "metadata": {},
   "outputs": [
    {
     "data": {
      "text/plain": [
       "[<matplotlib.lines.Line2D at 0x1c24322610>]"
      ]
     },
     "execution_count": 20,
     "metadata": {},
     "output_type": "execute_result"
    },
    {
     "data": {
      "image/png": "[encoded data removed]",
      "text/plain": [
       "<Figure size 432x288 with 1 Axes>"
      ]
     },
     "metadata": {
      "needs_background": "light"
     },
     "output_type": "display_data"
    }
   ],
   "source": [
    "plt.plot([np.sum(c) for c in checks])"
   ]
  },
  {
   "cell_type": "markdown",
   "metadata": {},
   "source": [
    "# Test Code"
   ]
  },
  {
   "cell_type": "code",
   "execution_count": 21,
   "metadata": {},
   "outputs": [],
   "source": [
    "def run_test(delta_x, delta_t, time_steps, initial_condition, L1=None, L2 = None, L3=None, X=X, Y=Y, g=g, kappa=.8,t_0=0):\n",
    "    \"\"\"\n",
    "    Code meant to combine L1, L2, and L3 steps in order to simulate the Fokker Planck Equations\n",
    "    \n",
    "    :Input:\n",
    "     - *delta_x* (float) Distance between points in discretization\n",
    "     - *delta_t* (float) Length of a Time Step\n",
    "     - *time_steps* (int) Number of time steps\n",
    "     - *initial_condition* (numpy.ndarray) initial condition\n",
    "     - *L1* (function) function that represents the L1 operator\n",
    "     - *L2* (function) function that represents the L2 operator\n",
    "     - *L2* (function) function that represents the L3 operator\n",
    "     - *X* (numpy.ndarray) Represents the underlying x1 variable which is involved in the process\n",
    "     - *Y* (numpy.ndarray) Represents the underlying x2 variable which is involved in the process\n",
    "     - *g* (function) Represents a function on x1 and x2 that is involved with the L2 term\n",
    "     - *kappa* (float) Term that controls the diffusion in the L3 operator\n",
    "     - *t_0* starting time\n",
    "     \n",
    "    :Output:\n",
    "     - *U* (numpy.ndarray) Solution\n",
    "    \"\"\"\n",
    "    \n",
    "    print(\"Beginning Test\")\n",
    "    U=initial_condition.copy()\n",
    "    errors=[]\n",
    "    \n",
    "    dim1, dim2 = X.shape\n",
    "    t=t_0\n",
    "    \n",
    "    for i in range(time_steps):\n",
    "        t+=delta_t\n",
    "        U = L1(U,delta_x,delta_t,Y=Y)\n",
    "        U = L2(U,delta_x,delta_t,X=X,Y=Y,g=g)\n",
    "        U = L3(U,delta_x,delta_t,kappa=kappa)\n",
    "        if i%100==0:\n",
    "            print(\"@ Timestep {}\".format(i))\n",
    "            \n",
    "        error=np.sqrt(np.sum((U-rho(X,Y,t))*(U-rho(X,Y,t)))/(dim1*dim2))\n",
    "        errors.append(error)\n",
    "    \n",
    "    return U,errors"
   ]
  },
  {
   "cell_type": "markdown",
   "metadata": {},
   "source": [
    "# Testing if the methods work with an exact solution"
   ]
  },
  {
   "cell_type": "code",
   "execution_count": 22,
   "metadata": {},
   "outputs": [],
   "source": [
    "# Setting up the exact solution\n",
    "mu_1 = -gamma/2+np.sqrt(gamma*gamma/4-K)\n",
    "mu_2 = -gamma/2-np.sqrt(gamma*gamma/4-K)\n",
    "\n",
    "xi = lambda x,v,t: (x*mu_1-v)*np.exp(-mu_2*t)\n",
    "nu = lambda x,v,t: (x*mu_2-v)*np.exp(-mu_1*t)\n",
    "\n",
    "a = lambda t: (sigma/mu_1)*(1-np.exp(-2*mu_1*t))\n",
    "b = lambda t: (sigma/mu_2)*(1-np.exp(-2*mu_2*t))\n",
    "h = lambda t: (-2*sigma/(mu_1+mu_2))*(1-np.exp(-(mu_1+mu_2)*t))\n",
    "delta = lambda t: a(t)*b(t)-h(t)*h(t)\n",
    "\n",
    "y_0=0\n",
    "x_0=0\n",
    "\n",
    "top = lambda x,y,t: (a(t)*(xi(x,y,t)-xi(x_0,y_0,0))**2+2*h(t)*(xi(x,y,t)-xi(x_0,y_0,0))*(nu(x,y,t)-nu(x_0,y_0,0))+b(t)*(nu(x,y,t)-nu(x_0,y_0,0))**2)/(2*delta(t))\n",
    "rho = lambda x,y,t: np.exp(gamma*t)*np.exp(-top(x,y,t))/(2*np.pi*np.sqrt(delta(t)))"
   ]
  },
  {
   "cell_type": "code",
   "execution_count": 23,
   "metadata": {},
   "outputs": [],
   "source": [
    "test=rho(X,Y,0.95)"
   ]
  },
  {
   "cell_type": "code",
   "execution_count": 24,
   "metadata": {},
   "outputs": [],
   "source": [
    "run=test.copy()\n",
    "runs = 800\n",
    "\n",
    "for i in range(runs):\n",
    "    \n",
    "    run = solve_CN(run,0.1,np.pi/1000,kappa=.8)\n",
    "    run = implicit_L2(run,0.1,np.pi/1000,X=X,Y=Y,g=g)\n",
    "    run = explicit_L1(run,0.1,np.pi/1000,Y=Y)"
   ]
  },
  {
   "cell_type": "code",
   "execution_count": 25,
   "metadata": {},
   "outputs": [],
   "source": [
    "run=test.copy()\n",
    "runs = 800\n",
    "\n",
    "for i in range(runs):\n",
    "    \n",
    "    run = solve_CN(run,0.1,np.pi/1000,kappa=.8)\n",
    "    run = explicit_L1(run,0.1,np.pi/1000,Y=Y)\n",
    "    run = implicit_L2(run,0.1,np.pi/1000,X=X,Y=Y,g=g)"
   ]
  },
  {
   "cell_type": "code",
   "execution_count": 26,
   "metadata": {},
   "outputs": [
    {
     "data": {
      "text/plain": [
       "<matplotlib.image.AxesImage at 0x1c244e2a50>"
      ]
     },
     "execution_count": 26,
     "metadata": {},
     "output_type": "execute_result"
    },
    {
     "data": {
      "image/png": "[encoded data removed]",
      "text/plain": [
       "<Figure size 432x288 with 1 Axes>"
      ]
     },
     "metadata": {
      "needs_background": "light"
     },
     "output_type": "display_data"
    }
   ],
   "source": [
    "plt.imshow(test)"
   ]
  },
  {
   "cell_type": "code",
   "execution_count": 27,
   "metadata": {},
   "outputs": [
    {
     "data": {
      "text/plain": [
       "<matplotlib.image.AxesImage at 0x1c24b04a10>"
      ]
     },
     "execution_count": 27,
     "metadata": {},
     "output_type": "execute_result"
    },
    {
     "data": {
      "image/png": "[encoded data removed]",
      "text/plain": [
       "<Figure size 432x288 with 1 Axes>"
      ]
     },
     "metadata": {
      "needs_background": "light"
     },
     "output_type": "display_data"
    }
   ],
   "source": [
    "plt.imshow(run)"
   ]
  },
  {
   "cell_type": "code",
   "execution_count": 28,
   "metadata": {},
   "outputs": [
    {
     "data": {
      "text/plain": [
       "<matplotlib.image.AxesImage at 0x1c24b89b90>"
      ]
     },
     "execution_count": 28,
     "metadata": {},
     "output_type": "execute_result"
    },
    {
     "data": {
      "image/png": "[encoded data removed]",
      "text/plain": [
       "<Figure size 432x288 with 1 Axes>"
      ]
     },
     "metadata": {
      "needs_background": "light"
     },
     "output_type": "display_data"
    }
   ],
   "source": [
    "plt.imshow(rho(X,Y,0.95+runs*np.pi/1000))"
   ]
  },
  {
   "cell_type": "code",
   "execution_count": 29,
   "metadata": {},
   "outputs": [
    {
     "data": {
      "text/plain": [
       "156.17376344047386"
      ]
     },
     "execution_count": 29,
     "metadata": {},
     "output_type": "execute_result"
    }
   ],
   "source": [
    "np.sum(run)"
   ]
  },
  {
   "cell_type": "code",
   "execution_count": 30,
   "metadata": {},
   "outputs": [
    {
     "data": {
      "text/plain": [
       "156.17376188825992"
      ]
     },
     "execution_count": 30,
     "metadata": {},
     "output_type": "execute_result"
    }
   ],
   "source": [
    "np.sum(rho(X,Y,0.95+np.pi/10))"
   ]
  },
  {
   "cell_type": "code",
   "execution_count": 31,
   "metadata": {
    "scrolled": true
   },
   "outputs": [
    {
     "data": {
      "text/plain": [
       "<matplotlib.colorbar.Colorbar at 0x1c24d59c10>"
      ]
     },
     "execution_count": 31,
     "metadata": {},
     "output_type": "execute_result"
    },
    {
     "data": {
      "image/png": "[encoded data removed]",
      "text/plain": [
       "<Figure size 432x288 with 2 Axes>"
      ]
     },
     "metadata": {
      "needs_background": "light"
     },
     "output_type": "display_data"
    }
   ],
   "source": [
    "#Differences in a simulated solution and an exact solution\n",
    "plt.imshow(run-rho(X,Y,0.95+runs*(np.pi/1000)));plt.colorbar()"
   ]
  },
  {
   "cell_type": "code",
   "execution_count": 32,
   "metadata": {},
   "outputs": [
    {
     "data": {
      "text/plain": [
       "0.0002565995648198893"
      ]
     },
     "execution_count": 32,
     "metadata": {},
     "output_type": "execute_result"
    }
   ],
   "source": [
    "#Error between the methods\n",
    "np.sqrt(np.sum((run-rho(X,Y,0.95+runs*(np.pi/1000)))*(run-rho(X,Y,0.95+runs*(np.pi/1000))))/(81*81))"
   ]
  },
  {
   "cell_type": "code",
   "execution_count": 33,
   "metadata": {},
   "outputs": [
    {
     "name": "stdout",
     "output_type": "stream",
     "text": [
      "Beginning Test\n",
      "@ Timestep 0\n",
      "@ Timestep 100\n",
      "@ Timestep 200\n",
      "@ Timestep 300\n",
      "@ Timestep 400\n",
      "@ Timestep 500\n",
      "@ Timestep 600\n",
      "@ Timestep 700\n"
     ]
    }
   ],
   "source": [
    "sol = run_test(0.1,np.pi/1000,800,rho(X,Y,0.95),L1 =explicit_L1,L2=implicit_L2,L3=solve_CN,t_0=0.95)"
   ]
  },
  {
   "cell_type": "code",
   "execution_count": 34,
   "metadata": {},
   "outputs": [
    {
     "data": {
      "text/plain": [
       "0.0005764394741888423"
      ]
     },
     "execution_count": 34,
     "metadata": {},
     "output_type": "execute_result"
    }
   ],
   "source": [
    "sol[1][-1] #Final error of the method"
   ]
  }
 ],
 "metadata": {
  "kernelspec": {
   "display_name": "Python 3",
   "language": "python",
   "name": "python3"
  },
  "language_info": {
   "codemirror_mode": {
    "name": "ipython",
    "version": 3
   },
   "file_extension": ".py",
   "mimetype": "text/x-python",
   "name": "python",
   "nbconvert_exporter": "python",
   "pygments_lexer": "ipython3",
   "version": "3.7.4"
  }
 },
 "nbformat": 4,
 "nbformat_minor": 2
}
