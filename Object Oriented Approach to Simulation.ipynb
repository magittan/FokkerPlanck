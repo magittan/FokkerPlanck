{
 "cells": [
  {
   "cell_type": "code",
   "execution_count": 1,
   "metadata": {},
   "outputs": [],
   "source": [
    "import abc\n",
    "import FokkerPlanck as FP\n",
    "import numpy as np\n",
    "import matplotlib.pyplot as plt\n",
    "%matplotlib inline"
   ]
  },
  {
   "cell_type": "markdown",
   "metadata": {},
   "source": [
    "# Possible OO Approach"
   ]
  },
  {
   "cell_type": "markdown",
   "metadata": {},
   "source": [
    "Although this wasn't implemented in the original project, we could use the following object oriented approach if this was to become simulation software:\n",
    "\n",
    "FP_Simulation becomes an object that has $L_1$,$L_2$,$L_3$ objects where $L_1$,$L_2$,$L_3$ are abstract classes/interfaces that need to be implemented. We use these abstract classes/interfaces since each $L_1$,$L_2$,$L_3$ object will fundamentally act the same however have a different implementation (We could use Cranck Nicolson or even a different Explicit Solver).\n",
    "\n",
    "If we then have the constructor of FP_Simulation require the $L_1$,$L_2$,$L_3$ objects, then we can instantiate all types of different solvers using different $L_1$,$L_2$,$L_3$ stages.  Here we are using composition to improve the usability of the class. A rough outline of this flow is coded up below with a simple UML diagram."
   ]
  },
  {
   "cell_type": "markdown",
   "metadata": {},
   "source": [
    "# Possible OO Implementation"
   ]
  },
  {
   "cell_type": "code",
   "execution_count": 2,
   "metadata": {},
   "outputs": [],
   "source": [
    "# Setting up the exact solution\n",
    "dim = 81\n",
    "\n",
    "nx = np.linspace(-4,4,dim)\n",
    "ny = np.linspace(-4,4,dim)\n",
    "\n",
    "# nx = np.linspace(-4-np.diff(nx)[0],4+np.diff(nx)[0],dim+2)\n",
    "# ny = np.linspace(-4-np.diff(ny)[0],4+np.diff(ny)[0],dim+2)\n",
    "\n",
    "X, Y = np.meshgrid(nx,ny)\n",
    "\n",
    "#Functions\n",
    "K=1\n",
    "gamma = 2.1\n",
    "sigma = 0.8\n",
    "\n",
    "a_1 = lambda x,y: K*x\n",
    "a_2 = lambda x,y: gamma*y\n",
    "a_3 = lambda x,y: 0\n",
    "a_4 = lambda x,y: sigma\n",
    "\n",
    "g = lambda x,y: a_1(x,y)+a_2(x,y)\n",
    "\n",
    "mu_1 = -gamma/2+np.sqrt(gamma*gamma/4-K)\n",
    "mu_2 = -gamma/2-np.sqrt(gamma*gamma/4-K)\n",
    "\n",
    "xi = lambda x,v,t: (x*mu_1-v)*np.exp(-mu_2*t)\n",
    "nu = lambda x,v,t: (x*mu_2-v)*np.exp(-mu_1*t)\n",
    "\n",
    "a = lambda t: (sigma/mu_1)*(1-np.exp(-2*mu_1*t))\n",
    "b = lambda t: (sigma/mu_2)*(1-np.exp(-2*mu_2*t))\n",
    "h = lambda t: (-2*sigma/(mu_1+mu_2))*(1-np.exp(-(mu_1+mu_2)*t))\n",
    "delta = lambda t: a(t)*b(t)-h(t)*h(t)\n",
    "\n",
    "y_0=0\n",
    "x_0=0\n",
    "\n",
    "top = lambda x,y,t: (a(t)*(xi(x,y,t)-xi(x_0,y_0,0))**2+2*h(t)*(xi(x,y,t)-xi(x_0,y_0,0))*(nu(x,y,t)-nu(x_0,y_0,0))+b(t)*(nu(x,y,t)-nu(x_0,y_0,0))**2)/(2*delta(t))\n",
    "rho = lambda x,y,t: np.exp(gamma*t)*np.exp(-top(x,y,t))/(2*np.pi*np.sqrt(delta(t)))"
   ]
  },
  {
   "cell_type": "code",
   "execution_count": 3,
   "metadata": {},
   "outputs": [],
   "source": [
    "class FP_Simulation():\n",
    "    \n",
    "    def __init__(self,L1,L2,L3):\n",
    "        self.L1 = L1\n",
    "        self.L2 = L2\n",
    "        self.L3 = L3\n",
    "        \n",
    "    def simulate(self, delta_x, delta_t, time_steps, initial_condition, X=None, Y=None, g=None,rho=None, kappa=.8,t_0=0):\n",
    "        \"\"\"\n",
    "        Code meant to combine L1, L2, and L3 steps in order to simulate the Fokker Planck Equations\n",
    "\n",
    "        :Input:\n",
    "         - *delta_x* (float) Distance between points in discretization\n",
    "         - *delta_t* (float) Length of a Time Step\n",
    "         - *time_steps* (int) Number of time steps\n",
    "         - *initial_condition* (numpy.ndarray) initial condition\n",
    "         - *L1* (function) function that represents the L1 operator\n",
    "         - *L2* (function) function that represents the L2 operator\n",
    "         - *L2* (function) function that represents the L3 operator\n",
    "         - *X* (numpy.ndarray) Represents the underlying x1 variable which is involved in the process\n",
    "         - *Y* (numpy.ndarray) Represents the underlying x2 variable which is involved in the process\n",
    "         - *g* (function) Represents a function on x1 and x2 that is involved with the L2 term\n",
    "         - *kappa* (float) Term that controls the diffusion in the L3 operator\n",
    "         - *t_0* starting time\n",
    "\n",
    "        :Output:\n",
    "         - *U* (numpy.ndarray) Solution\n",
    "        \"\"\"\n",
    "\n",
    "        print(\"Beginning Test\")\n",
    "        U=initial_condition.copy()\n",
    "        errors=[]\n",
    "\n",
    "        dim1, dim2 = X.shape\n",
    "        t=t_0\n",
    "\n",
    "        for i in range(time_steps):\n",
    "            t+=delta_t\n",
    "            U = self.L3.evaluate(U,delta_x,delta_t,kappa=kappa)\n",
    "            U = self.L1.evaluate(U,delta_x,delta_t,Y=Y)\n",
    "            U = self.L2.evaluate(U,delta_x,delta_t,X=X,Y=Y,g=g)\n",
    "\n",
    "            if i%100==0:\n",
    "                print(\"@ Timestep {}\".format(i))\n",
    "\n",
    "            error=np.sqrt(np.sum((U-rho(X,Y,t))*(U-rho(X,Y,t)))/(dim1*dim2))\n",
    "            errors.append(error)\n",
    "\n",
    "        return U,errors\n",
    "    \n",
    "    def print_type(self):\n",
    "        print(\"Different Stages:\")\n",
    "        print(\"------------------\")\n",
    "        self.L1.print_type()\n",
    "        self.L2.print_type()\n",
    "        self.L3.print_type()\n",
    "        print(\"------------------\")"
   ]
  },
  {
   "cell_type": "code",
   "execution_count": 4,
   "metadata": {},
   "outputs": [],
   "source": [
    "class L_1(abc.ABC):\n",
    "    @abc.abstractmethod\n",
    "    def evaluate(self, U,delta_x,delta_t,Y=None):\n",
    "        pass\n",
    "    \n",
    "    @abc.abstractmethod\n",
    "    def print_type(self):\n",
    "        pass\n",
    "    \n",
    "class L_2(abc.ABC):\n",
    "    @abc.abstractmethod\n",
    "    def evaluate(self,U,delta_x,delta_t,X=None,Y=None,g=None):\n",
    "        pass\n",
    "    \n",
    "    @abc.abstractmethod\n",
    "    def print_type(self):\n",
    "        pass\n",
    "    \n",
    "class L_3(abc.ABC):\n",
    "    @abc.abstractmethod\n",
    "    def evaluate(self,U, delta_x, delta_t,kappa=.8):\n",
    "        pass\n",
    "    \n",
    "    @abc.abstractmethod\n",
    "    def print_type(self):\n",
    "        pass\n",
    "\n",
    "#Example Implementation\n",
    "class EL1(L_1):\n",
    "    def __init__(self):\n",
    "        pass\n",
    "    def evaluate(self, U,delta_x,delta_t,Y=None):\n",
    "        return FP.explicit_L1(U,delta_x,delta_t,Y=Y)\n",
    "    def print_type(self):\n",
    "        print(\"L1: Explicit\")\n",
    "    \n",
    "class IL2(L_2):\n",
    "    def __init__(self):\n",
    "        pass\n",
    "    def evaluate(self,U,delta_x,delta_t,X=None,Y=None,g=None):\n",
    "        return FP.implicit_L2(U,delta_x,delta_t,X=X,Y=Y,g=g)\n",
    "    def print_type(self):\n",
    "        print(\"L2: Implicit\")\n",
    "\n",
    "class CNL3(L_3):\n",
    "    def __init__(self):\n",
    "        pass\n",
    "    def evaluate(self, U, delta_x, delta_t,kappa=.8):\n",
    "        return FP.solve_CN(U, delta_x, delta_t,kappa=kappa)\n",
    "    def print_type(self):\n",
    "        print(\"L3: Crank Nicholson\")"
   ]
  },
  {
   "cell_type": "markdown",
   "metadata": {},
   "source": [
    "# UML Diagram"
   ]
  },
  {
   "cell_type": "markdown",
   "metadata": {},
   "source": [
    "<img src=\"Fokker_Planck_UML.png\"></img>"
   ]
  },
  {
   "cell_type": "markdown",
   "metadata": {},
   "source": [
    "# Example Code"
   ]
  },
  {
   "cell_type": "code",
   "execution_count": 5,
   "metadata": {},
   "outputs": [],
   "source": [
    "L_1=EL1()\n",
    "L_2=IL2()\n",
    "L_3=CNL3()\n",
    "\n",
    "fps = FP_Simulation(L_1,L_2,L_3)"
   ]
  },
  {
   "cell_type": "code",
   "execution_count": 6,
   "metadata": {},
   "outputs": [
    {
     "name": "stdout",
     "output_type": "stream",
     "text": [
      "Different Stages:\n",
      "------------------\n",
      "L1: Explicit\n",
      "L2: Implicit\n",
      "L3: Crank Nicholson\n",
      "------------------\n"
     ]
    }
   ],
   "source": [
    "fps.print_type()"
   ]
  },
  {
   "cell_type": "code",
   "execution_count": 7,
   "metadata": {},
   "outputs": [
    {
     "name": "stdout",
     "output_type": "stream",
     "text": [
      "Beginning Test\n",
      "@ Timestep 0\n",
      "@ Timestep 100\n",
      "@ Timestep 200\n"
     ]
    }
   ],
   "source": [
    "delta_x = np.diff(nx)[0]\n",
    "results = fps.simulate(delta_x,np.pi/1000,300,rho(X,Y,0.95),X=X,Y=Y,g=g,rho=rho,t_0=0.95)"
   ]
  },
  {
   "cell_type": "code",
   "execution_count": 8,
   "metadata": {},
   "outputs": [
    {
     "data": {
      "text/plain": [
       "<matplotlib.colorbar.Colorbar at 0x1c18702a10>"
      ]
     },
     "execution_count": 8,
     "metadata": {},
     "output_type": "execute_result"
    },
    {
     "data": {
      "image/png": "[encoded data removed]",
      "text/plain": [
       "<Figure size 432x288 with 2 Axes>"
      ]
     },
     "metadata": {
      "needs_background": "light"
     },
     "output_type": "display_data"
    }
   ],
   "source": [
    "plt.imshow(results[0]);plt.colorbar()"
   ]
  },
  {
   "cell_type": "code",
   "execution_count": 9,
   "metadata": {},
   "outputs": [
    {
     "data": {
      "text/plain": [
       "Text(0.5, 0, 'Time Steps Taken')"
      ]
     },
     "execution_count": 9,
     "metadata": {},
     "output_type": "execute_result"
    },
    {
     "data": {
      "image/png": "[encoded data removed]",
      "text/plain": [
       "<Figure size 432x288 with 1 Axes>"
      ]
     },
     "metadata": {
      "needs_background": "light"
     },
     "output_type": "display_data"
    }
   ],
   "source": [
    "plt.plot(results[1])\n",
    "plt.title(\"Error vs Time Steps Taken\")\n",
    "plt.ylabel(\"Error\")\n",
    "plt.xlabel(\"Time Steps Taken\")"
   ]
  }
 ],
 "metadata": {
  "kernelspec": {
   "display_name": "Python 3",
   "language": "python",
   "name": "python3"
  },
  "language_info": {
   "codemirror_mode": {
    "name": "ipython",
    "version": 3
   },
   "file_extension": ".py",
   "mimetype": "text/x-python",
   "name": "python",
   "nbconvert_exporter": "python",
   "pygments_lexer": "ipython3",
   "version": "3.7.4"
  }
 },
 "nbformat": 4,
 "nbformat_minor": 2
}
