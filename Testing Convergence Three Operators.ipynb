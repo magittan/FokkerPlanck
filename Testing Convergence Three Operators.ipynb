{
 "cells": [
  {
   "cell_type": "code",
   "execution_count": 1,
   "metadata": {},
   "outputs": [],
   "source": [
    "import matplotlib.pyplot as plt\n",
    "import numpy as np\n",
    "import numpy\n",
    "from FokkerPlanck import *\n",
    "%matplotlib inline"
   ]
  },
  {
   "cell_type": "markdown",
   "metadata": {},
   "source": [
    "# Purpose"
   ]
  },
  {
   "cell_type": "markdown",
   "metadata": {},
   "source": [
    "This notebook was established for building the methods testing the time and space convergence behaviours of the three operator approach. We solve for the error with respect to the exact solution at with using different time steps and different spatial steps. Then we plot them and look at the overall behaviour (1st or 2nd order)."
   ]
  },
  {
   "cell_type": "markdown",
   "metadata": {},
   "source": [
    "# Exact Solution + Parameters"
   ]
  },
  {
   "cell_type": "code",
   "execution_count": 2,
   "metadata": {},
   "outputs": [],
   "source": [
    "dim = 81\n",
    "\n",
    "nx = np.linspace(-4,4,dim)\n",
    "ny = np.linspace(-4,4,dim)\n",
    "\n",
    "# nx = np.linspace(-4-np.diff(nx)[0],4+np.diff(nx)[0],dim+2)\n",
    "# ny = np.linspace(-4-np.diff(ny)[0],4+np.diff(ny)[0],dim+2)\n",
    "\n",
    "X, Y = np.meshgrid(nx,ny)\n",
    "\n",
    "#Functions\n",
    "K=1\n",
    "gamma = 2.1\n",
    "sigma = 0.8\n",
    "\n",
    "a_1 = lambda x,y: K*x\n",
    "a_2 = lambda x,y: gamma*y\n",
    "a_3 = lambda x,y: 0\n",
    "a_4 = lambda x,y: sigma\n",
    "\n",
    "g = lambda x,y: a_1(x,y)+a_2(x,y)"
   ]
  },
  {
   "cell_type": "code",
   "execution_count": 3,
   "metadata": {},
   "outputs": [],
   "source": [
    "mu_1 = -gamma/2+np.sqrt(gamma*gamma/4-K)\n",
    "mu_2 = -gamma/2-np.sqrt(gamma*gamma/4-K)\n",
    "\n",
    "xi = lambda x,v,t: (x*mu_1-v)*np.exp(-mu_2*t)\n",
    "nu = lambda x,v,t: (x*mu_2-v)*np.exp(-mu_1*t)\n",
    "\n",
    "a = lambda t: (sigma/mu_1)*(1-np.exp(-2*mu_1*t))\n",
    "b = lambda t: (sigma/mu_2)*(1-np.exp(-2*mu_2*t))\n",
    "h = lambda t: (-2*sigma/(mu_1+mu_2))*(1-np.exp(-(mu_1+mu_2)*t))\n",
    "delta = lambda t: a(t)*b(t)-h(t)*h(t)\n",
    "\n",
    "y_0=0\n",
    "x_0=0\n",
    "\n",
    "top = lambda x,y,t: (a(t)*(xi(x,y,t)-xi(x_0,y_0,0))**2+2*h(t)*(xi(x,y,t)-xi(x_0,y_0,0))*(nu(x,y,t)-nu(x_0,y_0,0))+b(t)*(nu(x,y,t)-nu(x_0,y_0,0))**2)/(2*delta(t))\n",
    "rho = lambda x,y,t: np.exp(gamma*t)*np.exp(-top(x,y,t))/(2*np.pi*np.sqrt(delta(t)))"
   ]
  },
  {
   "cell_type": "markdown",
   "metadata": {},
   "source": [
    "# Further convergence study:"
   ]
  },
  {
   "cell_type": "markdown",
   "metadata": {},
   "source": [
    "## IICN"
   ]
  },
  {
   "cell_type": "markdown",
   "metadata": {},
   "source": [
    "### Space Convergence"
   ]
  },
  {
   "cell_type": "code",
   "execution_count": 4,
   "metadata": {},
   "outputs": [
    {
     "name": "stdout",
     "output_type": "stream",
     "text": [
      "Beginning Test\n",
      "@ Timestep 0\n",
      "@ Timestep 100\n",
      "@ Timestep 200\n",
      "Beginning Test\n",
      "@ Timestep 0\n",
      "@ Timestep 100\n",
      "@ Timestep 200\n",
      "Beginning Test\n",
      "@ Timestep 0\n",
      "@ Timestep 100\n",
      "@ Timestep 200\n",
      "Beginning Test\n",
      "@ Timestep 0\n",
      "@ Timestep 100\n",
      "@ Timestep 200\n",
      "Beginning Test\n",
      "@ Timestep 0\n",
      "@ Timestep 100\n",
      "@ Timestep 200\n"
     ]
    }
   ],
   "source": [
    "dims = [21,41,61,81,121]\n",
    "total_errors = []\n",
    "\n",
    "for d in dims:\n",
    "\n",
    "    nx = np.linspace(-4,4,d)\n",
    "    ny = np.linspace(-4,4,d)\n",
    "\n",
    "    # nx = np.linspace(-4-np.diff(nx)[0],4+np.diff(nx)[0],dim+2)\n",
    "    # ny = np.linspace(-4-np.diff(ny)[0],4+np.diff(ny)[0],dim+2)\n",
    "\n",
    "    t_X, t_Y = np.meshgrid(nx,ny)\n",
    "    delta_x = np.diff(nx)[0]\n",
    "    \n",
    "    sol,errors = run_test(delta_x,np.pi/1000,300,rho(t_X,t_Y,0.95),L1 =implicit_L1,L2=implicit_L2,L3=solve_CN,X=t_X,Y=t_Y,g=g,rho=rho,t_0=0.95)\n",
    "    total_errors.append(errors[-1])"
   ]
  },
  {
   "cell_type": "code",
   "execution_count": 5,
   "metadata": {},
   "outputs": [
    {
     "data": {
      "text/plain": [
       "Text(0.5, 0, '$\\\\Delta$ x')"
      ]
     },
     "execution_count": 5,
     "metadata": {},
     "output_type": "execute_result"
    },
    {
     "data": {
      "image/png": "[encoded data removed]",
      "text/plain": [
       "<Figure size 432x288 with 1 Axes>"
      ]
     },
     "metadata": {
      "needs_background": "light"
     },
     "output_type": "display_data"
    }
   ],
   "source": [
    "f = lambda xs, order: np.power(xs/xs[0],order)\n",
    "\n",
    "delta_xs = np.array([1/21,1/41,1/61,1/81,1/121])\n",
    "\n",
    "plt.title(\"Order of Error for IICN\")\n",
    "plt.loglog(delta_xs,total_errors,'ko')\n",
    "plt.loglog(delta_xs,total_errors[0]*f(delta_xs,1),label=\"First Order\",c='r')\n",
    "plt.loglog(delta_xs,total_errors[0]*f(delta_xs,2),label=\"Second Order\",c='b')\n",
    "plt.legend()\n",
    "plt.ylabel(\"||e||\")\n",
    "plt.xlabel(r\"$\\Delta$ x\")"
   ]
  },
  {
   "cell_type": "markdown",
   "metadata": {},
   "source": [
    "### Time Convergence"
   ]
  },
  {
   "cell_type": "code",
   "execution_count": 6,
   "metadata": {},
   "outputs": [
    {
     "name": "stdout",
     "output_type": "stream",
     "text": [
      "Beginning Test\n",
      "@ Timestep 0\n",
      "Beginning Test\n",
      "@ Timestep 0\n",
      "@ Timestep 100\n",
      "Beginning Test\n",
      "@ Timestep 0\n",
      "@ Timestep 100\n",
      "@ Timestep 200\n",
      "@ Timestep 300\n",
      "Beginning Test\n",
      "@ Timestep 0\n",
      "@ Timestep 100\n",
      "@ Timestep 200\n",
      "@ Timestep 300\n",
      "@ Timestep 400\n",
      "@ Timestep 500\n",
      "@ Timestep 600\n",
      "@ Timestep 700\n"
     ]
    }
   ],
   "source": [
    "time_steps = [100,200,400,800]\n",
    "\n",
    "D = (800*np.pi)/(1000)\n",
    "time_error = []\n",
    "time_delta = []\n",
    "\n",
    "for t in time_steps:\n",
    "    sol_IICN = run_test(0.1,D/t,t,rho(X,Y,0.95),L1 =implicit_L1,L2=implicit_L2,L3=solve_CN,X=X,Y=Y,g=g,rho=rho,t_0=0.95)\n",
    "    time_error.append(sol_IICN[1][-1])\n",
    "    time_delta.append(D/t)"
   ]
  },
  {
   "cell_type": "code",
   "execution_count": 7,
   "metadata": {},
   "outputs": [
    {
     "data": {
      "text/plain": [
       "Text(0.5, 0, '$\\\\Delta$ t')"
      ]
     },
     "execution_count": 7,
     "metadata": {},
     "output_type": "execute_result"
    },
    {
     "data": {
      "image/png": "[encoded data removed]",
      "text/plain": [
       "<Figure size 432x288 with 1 Axes>"
      ]
     },
     "metadata": {
      "needs_background": "light"
     },
     "output_type": "display_data"
    }
   ],
   "source": [
    "f = lambda xs, order: np.power(xs/xs[0],order)\n",
    "\n",
    "time_error = np.array(time_error)[::-1]\n",
    "time_delta = np.array(time_delta)[::-1]\n",
    "\n",
    "plt.title(\"Order of Error for IICN\")\n",
    "plt.loglog(time_delta,time_error,'ko')\n",
    "plt.loglog(time_delta,time_error[0]*f(time_delta,1),label=\"First Order\",c='r')\n",
    "plt.loglog(time_delta,time_error[0]*f(time_delta,2),label=\"Second Order\",c='b')\n",
    "plt.legend()\n",
    "plt.ylabel(\"||e||\")\n",
    "plt.xlabel(r\"$\\Delta$ t\")"
   ]
  },
  {
   "cell_type": "markdown",
   "metadata": {},
   "source": [
    "## IIBE"
   ]
  },
  {
   "cell_type": "markdown",
   "metadata": {},
   "source": [
    "### Space Convergence"
   ]
  },
  {
   "cell_type": "code",
   "execution_count": 8,
   "metadata": {},
   "outputs": [
    {
     "name": "stdout",
     "output_type": "stream",
     "text": [
      "Beginning Test\n",
      "@ Timestep 0\n",
      "@ Timestep 100\n",
      "@ Timestep 200\n",
      "Beginning Test\n",
      "@ Timestep 0\n",
      "@ Timestep 100\n",
      "@ Timestep 200\n",
      "Beginning Test\n",
      "@ Timestep 0\n",
      "@ Timestep 100\n",
      "@ Timestep 200\n",
      "Beginning Test\n",
      "@ Timestep 0\n",
      "@ Timestep 100\n",
      "@ Timestep 200\n",
      "Beginning Test\n",
      "@ Timestep 0\n",
      "@ Timestep 100\n",
      "@ Timestep 200\n"
     ]
    }
   ],
   "source": [
    "dims = [21,41,61,81,121]\n",
    "total_errors = []\n",
    "\n",
    "for d in dims:\n",
    "\n",
    "    nx = np.linspace(-4,4,d)\n",
    "    ny = np.linspace(-4,4,d)\n",
    "\n",
    "    # nx = np.linspace(-4-np.diff(nx)[0],4+np.diff(nx)[0],dim+2)\n",
    "    # ny = np.linspace(-4-np.diff(ny)[0],4+np.diff(ny)[0],dim+2)\n",
    "\n",
    "    t_X, t_Y = np.meshgrid(nx,ny)\n",
    "    delta_x = np.diff(nx)[0]\n",
    "    \n",
    "    sol,errors = run_test(delta_x,np.pi/1000,300,rho(t_X,t_Y,0.95),L1 =implicit_L1,L2=implicit_L2,L3=solve_BE,X=t_X,Y=t_Y,g=g,rho=rho,t_0=0.95)\n",
    "    total_errors.append(errors[-1])"
   ]
  },
  {
   "cell_type": "code",
   "execution_count": 9,
   "metadata": {},
   "outputs": [
    {
     "data": {
      "text/plain": [
       "Text(0.5, 0, '$\\\\Delta$ x')"
      ]
     },
     "execution_count": 9,
     "metadata": {},
     "output_type": "execute_result"
    },
    {
     "data": {
      "image/png": "[encoded data removed]",
      "text/plain": [
       "<Figure size 432x288 with 1 Axes>"
      ]
     },
     "metadata": {
      "needs_background": "light"
     },
     "output_type": "display_data"
    }
   ],
   "source": [
    "f = lambda xs, order: np.power(xs/xs[0],order)\n",
    "\n",
    "delta_xs = np.array([1/21,1/41,1/61,1/81,1/121])\n",
    "\n",
    "plt.title(\"Order of Error for IIBE\")\n",
    "plt.loglog(delta_xs,total_errors,'ko')\n",
    "plt.loglog(delta_xs,total_errors[0]*f(delta_xs,1),label=\"First Order\",c='r')\n",
    "plt.loglog(delta_xs,total_errors[0]*f(delta_xs,2),label=\"Second Order\",c='b')\n",
    "plt.legend()\n",
    "plt.ylabel(\"||e||\")\n",
    "plt.xlabel(r\"$\\Delta$ x\")"
   ]
  },
  {
   "cell_type": "markdown",
   "metadata": {},
   "source": [
    "### Time Convergence"
   ]
  },
  {
   "cell_type": "code",
   "execution_count": 10,
   "metadata": {},
   "outputs": [
    {
     "name": "stdout",
     "output_type": "stream",
     "text": [
      "Beginning Test\n",
      "@ Timestep 0\n",
      "Beginning Test\n",
      "@ Timestep 0\n",
      "@ Timestep 100\n",
      "Beginning Test\n",
      "@ Timestep 0\n",
      "@ Timestep 100\n",
      "@ Timestep 200\n",
      "@ Timestep 300\n",
      "Beginning Test\n",
      "@ Timestep 0\n",
      "@ Timestep 100\n",
      "@ Timestep 200\n",
      "@ Timestep 300\n",
      "@ Timestep 400\n",
      "@ Timestep 500\n",
      "@ Timestep 600\n",
      "@ Timestep 700\n"
     ]
    }
   ],
   "source": [
    "time_steps = [100,200,400,800]\n",
    "\n",
    "D = (800*np.pi)/(1000)\n",
    "time_error = []\n",
    "time_delta = []\n",
    "\n",
    "for t in time_steps:\n",
    "    sol_IIBE = run_test(0.1,D/t,t,rho(X,Y,0.95),L1 =implicit_L1,L2=implicit_L2,L3=solve_BE,X=X,Y=Y,g=g,rho=rho,t_0=0.95)\n",
    "    time_error.append(sol_IIBE[1][-1])\n",
    "    time_delta.append(D/t)"
   ]
  },
  {
   "cell_type": "code",
   "execution_count": 11,
   "metadata": {},
   "outputs": [
    {
     "data": {
      "text/plain": [
       "Text(0.5, 0, '$\\\\Delta$ t')"
      ]
     },
     "execution_count": 11,
     "metadata": {},
     "output_type": "execute_result"
    },
    {
     "data": {
      "image/png": "[encoded data removed]",
      "text/plain": [
       "<Figure size 432x288 with 1 Axes>"
      ]
     },
     "metadata": {
      "needs_background": "light"
     },
     "output_type": "display_data"
    }
   ],
   "source": [
    "f = lambda xs, order: np.power(xs/xs[0],order)\n",
    "\n",
    "time_error = np.array(time_error)\n",
    "time_delta = np.array(time_delta)\n",
    "\n",
    "plt.title(\"Order of Error for IIBE\")\n",
    "plt.loglog(time_delta,time_error,'ko')\n",
    "plt.loglog(time_delta,time_error[0]*f(time_delta,1),label=\"First Order\",c='r')\n",
    "plt.loglog(time_delta,time_error[0]*f(time_delta,2),label=\"Second Order\",c='b')\n",
    "plt.legend()\n",
    "plt.ylabel(\"||e||\")\n",
    "plt.xlabel(r\"$\\Delta$ t\")"
   ]
  },
  {
   "cell_type": "markdown",
   "metadata": {},
   "source": [
    "## EIBE\n",
    "\n"
   ]
  },
  {
   "cell_type": "markdown",
   "metadata": {},
   "source": [
    "## Space Convergence"
   ]
  },
  {
   "cell_type": "code",
   "execution_count": 12,
   "metadata": {},
   "outputs": [
    {
     "name": "stdout",
     "output_type": "stream",
     "text": [
      "Beginning Test\n",
      "@ Timestep 0\n",
      "@ Timestep 100\n",
      "@ Timestep 200\n",
      "Beginning Test\n",
      "@ Timestep 0\n",
      "@ Timestep 100\n",
      "@ Timestep 200\n",
      "Beginning Test\n",
      "@ Timestep 0\n",
      "@ Timestep 100\n",
      "@ Timestep 200\n",
      "Beginning Test\n",
      "@ Timestep 0\n",
      "@ Timestep 100\n",
      "@ Timestep 200\n",
      "Beginning Test\n",
      "@ Timestep 0\n",
      "@ Timestep 100\n",
      "@ Timestep 200\n"
     ]
    }
   ],
   "source": [
    "dims = [21,41,61,81,121]\n",
    "total_errors = []\n",
    "\n",
    "for d in dims:\n",
    "\n",
    "    nx = np.linspace(-4,4,d)\n",
    "    ny = np.linspace(-4,4,d)\n",
    "\n",
    "    # nx = np.linspace(-4-np.diff(nx)[0],4+np.diff(nx)[0],dim+2)\n",
    "    # ny = np.linspace(-4-np.diff(ny)[0],4+np.diff(ny)[0],dim+2)\n",
    "\n",
    "    t_X, t_Y = np.meshgrid(nx,ny)\n",
    "    delta_x = np.diff(nx)[0]\n",
    "    \n",
    "    sol,errors = run_test(delta_x,np.pi/1000,300,rho(t_X,t_Y,0.95),L1 =explicit_L1,L2=implicit_L2,L3=solve_BE,X=t_X,Y=t_Y,g=g,rho=rho,t_0=0.95)\n",
    "    total_errors.append(errors[-1])"
   ]
  },
  {
   "cell_type": "code",
   "execution_count": 13,
   "metadata": {},
   "outputs": [
    {
     "data": {
      "text/plain": [
       "Text(0.5, 0, '$\\\\Delta$ x')"
      ]
     },
     "execution_count": 13,
     "metadata": {},
     "output_type": "execute_result"
    },
    {
     "data": {
      "image/png": "[encoded data removed]",
      "text/plain": [
       "<Figure size 432x288 with 1 Axes>"
      ]
     },
     "metadata": {
      "needs_background": "light"
     },
     "output_type": "display_data"
    }
   ],
   "source": [
    "f = lambda xs, order: np.power(xs/xs[0],order)\n",
    "\n",
    "delta_xs = np.array([1/21,1/41,1/61,1/81,1/121])\n",
    "\n",
    "plt.title(\"Order of Error for EIBE\")\n",
    "plt.loglog(delta_xs,total_errors,'ko')\n",
    "plt.loglog(delta_xs,total_errors[0]*f(delta_xs,1),label=\"First Order\",c='r')\n",
    "plt.loglog(delta_xs,total_errors[0]*f(delta_xs,2),label=\"Second Order\",c='b')\n",
    "plt.legend()\n",
    "plt.ylabel(\"||e||\")\n",
    "plt.xlabel(r\"$\\Delta$ x\")"
   ]
  },
  {
   "cell_type": "markdown",
   "metadata": {},
   "source": [
    "### Time Convergence"
   ]
  },
  {
   "cell_type": "code",
   "execution_count": 14,
   "metadata": {},
   "outputs": [
    {
     "name": "stdout",
     "output_type": "stream",
     "text": [
      "Beginning Test\n",
      "@ Timestep 0\n",
      "Beginning Test\n",
      "@ Timestep 0\n",
      "@ Timestep 100\n",
      "Beginning Test\n",
      "@ Timestep 0\n",
      "@ Timestep 100\n",
      "@ Timestep 200\n",
      "@ Timestep 300\n",
      "Beginning Test\n",
      "@ Timestep 0\n",
      "@ Timestep 100\n",
      "@ Timestep 200\n",
      "@ Timestep 300\n",
      "@ Timestep 400\n",
      "@ Timestep 500\n",
      "@ Timestep 600\n",
      "@ Timestep 700\n"
     ]
    }
   ],
   "source": [
    "time_steps = [100,200,400,800]\n",
    "\n",
    "D = (800*np.pi)/(1000)\n",
    "time_error = []\n",
    "time_delta = []\n",
    "\n",
    "for t in time_steps:\n",
    "    sol_EIBE = run_test(0.1,D/t,t,rho(X,Y,0.95),L1 =explicit_L1,L2=implicit_L2,L3=solve_BE,X=X,Y=Y,g=g,rho=rho,t_0=0.95)\n",
    "    time_error.append(sol_EIBE[1][-1])\n",
    "    time_delta.append(D/t)"
   ]
  },
  {
   "cell_type": "code",
   "execution_count": 15,
   "metadata": {},
   "outputs": [
    {
     "data": {
      "text/plain": [
       "Text(0.5, 0, '$\\\\Delta$ t')"
      ]
     },
     "execution_count": 15,
     "metadata": {},
     "output_type": "execute_result"
    },
    {
     "data": {
      "image/png": "[encoded data removed]",
      "text/plain": [
       "<Figure size 432x288 with 1 Axes>"
      ]
     },
     "metadata": {
      "needs_background": "light"
     },
     "output_type": "display_data"
    }
   ],
   "source": [
    "f = lambda xs, order: np.power(xs/xs[0],order)\n",
    "\n",
    "time_error = np.array(time_error)\n",
    "time_delta = np.array(time_delta)\n",
    "\n",
    "plt.title(\"Order of Error for EIBE\")\n",
    "plt.loglog(time_delta,time_error,'ko')\n",
    "plt.loglog(time_delta,time_error[0]*f(time_delta,1),label=\"First Order\",c='r')\n",
    "plt.loglog(time_delta,time_error[0]*f(time_delta,2),label=\"Second Order\",c='b')\n",
    "plt.legend()\n",
    "plt.ylabel(\"||e||\")\n",
    "plt.xlabel(r\"$\\Delta$ t\")"
   ]
  },
  {
   "cell_type": "markdown",
   "metadata": {},
   "source": [
    "## EICN"
   ]
  },
  {
   "cell_type": "markdown",
   "metadata": {},
   "source": [
    "### Space Convergence"
   ]
  },
  {
   "cell_type": "code",
   "execution_count": 16,
   "metadata": {},
   "outputs": [
    {
     "name": "stdout",
     "output_type": "stream",
     "text": [
      "Beginning Test\n",
      "@ Timestep 0\n",
      "@ Timestep 100\n",
      "@ Timestep 200\n",
      "Beginning Test\n",
      "@ Timestep 0\n",
      "@ Timestep 100\n",
      "@ Timestep 200\n",
      "Beginning Test\n",
      "@ Timestep 0\n",
      "@ Timestep 100\n",
      "@ Timestep 200\n",
      "Beginning Test\n",
      "@ Timestep 0\n",
      "@ Timestep 100\n",
      "@ Timestep 200\n",
      "Beginning Test\n",
      "@ Timestep 0\n",
      "@ Timestep 100\n",
      "@ Timestep 200\n"
     ]
    }
   ],
   "source": [
    "dims = [21,41,61,81,121]\n",
    "total_errors = []\n",
    "\n",
    "for d in dims:\n",
    "\n",
    "    nx = np.linspace(-4,4,d)\n",
    "    ny = np.linspace(-4,4,d)\n",
    "\n",
    "    # nx = np.linspace(-4-np.diff(nx)[0],4+np.diff(nx)[0],dim+2)\n",
    "    # ny = np.linspace(-4-np.diff(ny)[0],4+np.diff(ny)[0],dim+2)\n",
    "\n",
    "    t_X, t_Y = np.meshgrid(nx,ny)\n",
    "    delta_x = np.diff(nx)[0]\n",
    "    \n",
    "    sol,errors = run_test(delta_x,np.pi/1000,300,rho(t_X,t_Y,0.95),L1 =explicit_L1,L2=implicit_L2,L3=solve_CN,X=t_X,Y=t_Y,g=g,rho=rho,t_0=0.95)\n",
    "    total_errors.append(errors[-1])"
   ]
  },
  {
   "cell_type": "code",
   "execution_count": 17,
   "metadata": {},
   "outputs": [
    {
     "data": {
      "text/plain": [
       "Text(0.5, 0, '$\\\\Delta$ x')"
      ]
     },
     "execution_count": 17,
     "metadata": {},
     "output_type": "execute_result"
    },
    {
     "data": {
      "image/png": "[encoded data removed]",
      "text/plain": [
       "<Figure size 432x288 with 1 Axes>"
      ]
     },
     "metadata": {
      "needs_background": "light"
     },
     "output_type": "display_data"
    }
   ],
   "source": [
    "f = lambda xs, order: np.power(xs/xs[0],order)\n",
    "\n",
    "delta_xs = np.array([1/21,1/41,1/61,1/81,1/121])\n",
    "\n",
    "plt.title(\"Order of Error for EICN\")\n",
    "plt.loglog(delta_xs,total_errors,'ko')\n",
    "plt.loglog(delta_xs,total_errors[0]*f(delta_xs,1),label=\"First Order\",c='r')\n",
    "plt.loglog(delta_xs,total_errors[0]*f(delta_xs,2),label=\"Second Order\",c='b')\n",
    "plt.legend()\n",
    "plt.ylabel(\"||e||\")\n",
    "plt.xlabel(r\"$\\Delta$ x\")"
   ]
  },
  {
   "cell_type": "markdown",
   "metadata": {},
   "source": [
    "### Time Convergence"
   ]
  },
  {
   "cell_type": "code",
   "execution_count": 18,
   "metadata": {},
   "outputs": [
    {
     "name": "stdout",
     "output_type": "stream",
     "text": [
      "Beginning Test\n",
      "@ Timestep 0\n",
      "Beginning Test\n",
      "@ Timestep 0\n",
      "@ Timestep 100\n",
      "Beginning Test\n",
      "@ Timestep 0\n",
      "@ Timestep 100\n",
      "@ Timestep 200\n",
      "@ Timestep 300\n",
      "Beginning Test\n",
      "@ Timestep 0\n",
      "@ Timestep 100\n",
      "@ Timestep 200\n",
      "@ Timestep 300\n",
      "@ Timestep 400\n",
      "@ Timestep 500\n",
      "@ Timestep 600\n",
      "@ Timestep 700\n"
     ]
    }
   ],
   "source": [
    "time_steps = [100,200,400,800]\n",
    "\n",
    "D = (800*np.pi)/(1000)\n",
    "time_error = []\n",
    "time_delta = []\n",
    "\n",
    "for t in time_steps:\n",
    "    sol_EICN = run_test(0.1,D/t,t,rho(X,Y,0.95),L1 =explicit_L1,L2=implicit_L2,L3=solve_CN,X=X,Y=Y,g=g,rho=rho,t_0=0.95)\n",
    "    time_error.append(sol_EICN[1][-1])\n",
    "    time_delta.append(D/t)"
   ]
  },
  {
   "cell_type": "code",
   "execution_count": 19,
   "metadata": {},
   "outputs": [
    {
     "data": {
      "text/plain": [
       "Text(0.5, 0, '$\\\\Delta$ t')"
      ]
     },
     "execution_count": 19,
     "metadata": {},
     "output_type": "execute_result"
    },
    {
     "data": {
      "image/png": "[encoded data removed]",
      "text/plain": [
       "<Figure size 432x288 with 1 Axes>"
      ]
     },
     "metadata": {
      "needs_background": "light"
     },
     "output_type": "display_data"
    }
   ],
   "source": [
    "f = lambda xs, order: np.power(xs/xs[0],order)\n",
    "\n",
    "time_error = np.array(time_error)\n",
    "time_delta = np.array(time_delta)\n",
    "\n",
    "plt.title(\"Order of Error for EICN\")\n",
    "plt.loglog(time_delta,time_error,'ko')\n",
    "plt.loglog(time_delta,time_error[0]*f(time_delta,1),label=\"First Order\",c='r')\n",
    "plt.loglog(time_delta,time_error[0]*f(time_delta,2),label=\"Second Order\",c='b')\n",
    "plt.legend()\n",
    "plt.ylabel(\"||e||\")\n",
    "plt.xlabel(r\"$\\Delta$ t\")"
   ]
  }
 ],
 "metadata": {
  "kernelspec": {
   "display_name": "Python 3",
   "language": "python",
   "name": "python3"
  },
  "language_info": {
   "codemirror_mode": {
    "name": "ipython",
    "version": 3
   },
   "file_extension": ".py",
   "mimetype": "text/x-python",
   "name": "python",
   "nbconvert_exporter": "python",
   "pygments_lexer": "ipython3",
   "version": "3.7.4"
  }
 },
 "nbformat": 4,
 "nbformat_minor": 2
}
